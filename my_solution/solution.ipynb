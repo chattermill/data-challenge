{
 "cells": [
  {
   "cell_type": "code",
   "execution_count": 1,
   "metadata": {},
   "outputs": [
    {
     "data": {
      "text/html": [
       "<div>\n",
       "<style scoped>\n",
       "    .dataframe tbody tr th:only-of-type {\n",
       "        vertical-align: middle;\n",
       "    }\n",
       "\n",
       "    .dataframe tbody tr th {\n",
       "        vertical-align: top;\n",
       "    }\n",
       "\n",
       "    .dataframe thead th {\n",
       "        text-align: right;\n",
       "    }\n",
       "</style>\n",
       "<table border=\"1\" class=\"dataframe\">\n",
       "  <thead>\n",
       "    <tr style=\"text-align: right;\">\n",
       "      <th></th>\n",
       "      <th>title</th>\n",
       "      <th>review</th>\n",
       "      <th>product_name</th>\n",
       "      <th>iso</th>\n",
       "      <th>score</th>\n",
       "      <th>date</th>\n",
       "      <th>app_bought</th>\n",
       "      <th>money_spent</th>\n",
       "    </tr>\n",
       "  </thead>\n",
       "  <tbody>\n",
       "    <tr>\n",
       "      <td>0</td>\n",
       "      <td>Love it!</td>\n",
       "      <td>I use this app to read r/nosleep stories befor...</td>\n",
       "      <td>Reddit Official App: Trending News and Hot Topics</td>\n",
       "      <td>US</td>\n",
       "      <td>5</td>\n",
       "      <td>17-7-10 0:0:0</td>\n",
       "      <td>47</td>\n",
       "      <td>140</td>\n",
       "    </tr>\n",
       "    <tr>\n",
       "      <td>1</td>\n",
       "      <td>•••</td>\n",
       "      <td>Dank memes</td>\n",
       "      <td>Reddit Official App: Trending News and Hot Topics</td>\n",
       "      <td>MY</td>\n",
       "      <td>5</td>\n",
       "      <td>17-7-10 0:0:0</td>\n",
       "      <td>3</td>\n",
       "      <td>10</td>\n",
       "    </tr>\n",
       "    <tr>\n",
       "      <td>2</td>\n",
       "      <td>Very good app</td>\n",
       "      <td>Love the app, makes using Reddit very convenient</td>\n",
       "      <td>Reddit Official App: Trending News and Hot Topics</td>\n",
       "      <td>US</td>\n",
       "      <td>5</td>\n",
       "      <td>17-7-10 0:0:0</td>\n",
       "      <td>61</td>\n",
       "      <td>182</td>\n",
       "    </tr>\n",
       "    <tr>\n",
       "      <td>3</td>\n",
       "      <td>CNN here</td>\n",
       "      <td>As the CEO of CNN I find this app repulsive. A...</td>\n",
       "      <td>Reddit Official App: Trending News and Hot Topics</td>\n",
       "      <td>US</td>\n",
       "      <td>5</td>\n",
       "      <td>17-7-10 0:0:0</td>\n",
       "      <td>3</td>\n",
       "      <td>6</td>\n",
       "    </tr>\n",
       "    <tr>\n",
       "      <td>4</td>\n",
       "      <td>Easy peasy!</td>\n",
       "      <td>I was infrequent in my visits, mainly mobile w...</td>\n",
       "      <td>Reddit Official App: Trending News and Hot Topics</td>\n",
       "      <td>US</td>\n",
       "      <td>5</td>\n",
       "      <td>17-7-10 0:0:0</td>\n",
       "      <td>59</td>\n",
       "      <td>178</td>\n",
       "    </tr>\n",
       "  </tbody>\n",
       "</table>\n",
       "</div>"
      ],
      "text/plain": [
       "           title                                             review  \\\n",
       "0       Love it!  I use this app to read r/nosleep stories befor...   \n",
       "1            •••                                         Dank memes   \n",
       "2  Very good app   Love the app, makes using Reddit very convenient   \n",
       "3       CNN here  As the CEO of CNN I find this app repulsive. A...   \n",
       "4    Easy peasy!  I was infrequent in my visits, mainly mobile w...   \n",
       "\n",
       "                                        product_name iso  score  \\\n",
       "0  Reddit Official App: Trending News and Hot Topics  US      5   \n",
       "1  Reddit Official App: Trending News and Hot Topics  MY      5   \n",
       "2  Reddit Official App: Trending News and Hot Topics  US      5   \n",
       "3  Reddit Official App: Trending News and Hot Topics  US      5   \n",
       "4  Reddit Official App: Trending News and Hot Topics  US      5   \n",
       "\n",
       "            date  app_bought  money_spent  \n",
       "0  17-7-10 0:0:0          47          140  \n",
       "1  17-7-10 0:0:0           3           10  \n",
       "2  17-7-10 0:0:0          61          182  \n",
       "3  17-7-10 0:0:0           3            6  \n",
       "4  17-7-10 0:0:0          59          178  "
      ]
     },
     "execution_count": 1,
     "metadata": {},
     "output_type": "execute_result"
    }
   ],
   "source": [
    "import pandas as pd\n",
    "import sqlite3\n",
    "import datetime\n",
    "\n",
    "#read csv into a pandas dataframe\n",
    "reviews_df = pd.read_csv(\"../reddit_exercise_data.csv\")\n",
    "\n",
    "#quick eye balling!\n",
    "reviews_df.head()"
   ]
  },
  {
   "cell_type": "code",
   "execution_count": 2,
   "metadata": {},
   "outputs": [
    {
     "data": {
      "text/plain": [
       "title           object\n",
       "review          object\n",
       "product_name    object\n",
       "iso             object\n",
       "score            int64\n",
       "date            object\n",
       "app_bought       int64\n",
       "money_spent      int64\n",
       "dtype: object"
      ]
     },
     "execution_count": 2,
     "metadata": {},
     "output_type": "execute_result"
    }
   ],
   "source": [
    "reviews_df.dtypes"
   ]
  },
  {
   "cell_type": "markdown",
   "metadata": {},
   "source": [
    "# Cleaning-up Data"
   ]
  },
  {
   "cell_type": "markdown",
   "metadata": {},
   "source": [
    "<b>Objectives- </b>\n",
    "1. Make sure there are no duplicate entries. Because users can accidentally post same comments twice.\n",
    "2. Need to check ISOs are valid - since they are limitied few, can do a quick eyeball at unique values\n",
    "3. Fix date format - it should be consistent for all rows\n",
    "4. Make sure that score, app_bought and money_spent are numeric values for all rows - can be confirmed by data types\n",
    "5. Review, title and product name: not required to clean up in my opinion for the purpose of this analysis"
   ]
  },
  {
   "cell_type": "code",
   "execution_count": 3,
   "metadata": {},
   "outputs": [],
   "source": [
    "#drop duplicates inplace\n",
    "reviews_df.drop_duplicates(keep=False,inplace=True)"
   ]
  },
  {
   "cell_type": "code",
   "execution_count": 4,
   "metadata": {},
   "outputs": [
    {
     "data": {
      "text/plain": [
       "array(['US', 'MY', 'CA', 'DE', 'CN', 'CZ', 'NL', 'CH', 'PL', 'RO', 'AT',\n",
       "       'ZA', 'CO', 'RU', 'BE', 'MX', 'AU', 'TR', 'IN', 'DK', 'HU', 'SG',\n",
       "       'HR', 'GB', 'NZ', 'NO', 'SE', 'TW', 'GR', 'IT', 'PH', 'TH', 'BR',\n",
       "       'EG', 'KH', 'CR', 'KR', 'JP', 'FR', 'ES', 'SK', 'IE', 'HK', 'FI',\n",
       "       'AR', 'JO', 'IS', 'UA', 'BG', 'EC', 'CY', 'CL', 'PT', 'MT', 'LK',\n",
       "       'OM', 'BY', 'GT', 'NG', 'IL', 'VN', 'PE', 'BH', 'TZ', 'MK', 'LV',\n",
       "       'TN', 'AE', 'PK', 'AL', 'KZ', 'SI', 'HN', 'KW', 'BN', 'ID', 'LB',\n",
       "       'UY', 'DO', 'NE', 'LT'], dtype=object)"
      ]
     },
     "execution_count": 4,
     "metadata": {},
     "output_type": "execute_result"
    }
   ],
   "source": [
    "#check iso values\n",
    "reviews_df.iso.unique()"
   ]
  },
  {
   "cell_type": "code",
   "execution_count": 5,
   "metadata": {},
   "outputs": [],
   "source": [
    "#format date column of original dataframe to DD-MM-YYYY format\n",
    "def formatDate(input_date):\n",
    "    idate = input_date.split(\" \")[0]\n",
    "    if idate.find('/') >= 0:\n",
    "        month,date,year = [int(x) for x in idate.split('/')]\n",
    "    else:\n",
    "        year,month,date = [int(x) for x in idate.split('-')]\n",
    "    year = 2000+year if year < 2000 else year\n",
    "    return datetime.date(year,month,date).strftime(\"%d-%m-%Y\")"
   ]
  },
  {
   "cell_type": "code",
   "execution_count": 6,
   "metadata": {},
   "outputs": [],
   "source": [
    "reviews_df.date = reviews_df.date.apply(formatDate)"
   ]
  },
  {
   "cell_type": "markdown",
   "metadata": {},
   "source": [
    "# Deciding Bucket Size"
   ]
  },
  {
   "cell_type": "code",
   "execution_count": 7,
   "metadata": {},
   "outputs": [
    {
     "data": {
      "text/plain": [
       "(0, 100, 48.7212, 48.0)"
      ]
     },
     "execution_count": 7,
     "metadata": {},
     "output_type": "execute_result"
    }
   ],
   "source": [
    "#Parameters for decision on bucket size for app_bought\n",
    "#Interested to see how is data distributed\n",
    "(reviews_df.app_bought.min(), reviews_df.app_bought.max(), reviews_df.app_bought.mean(), reviews_df.app_bought.median())"
   ]
  },
  {
   "cell_type": "code",
   "execution_count": 8,
   "metadata": {},
   "outputs": [],
   "source": [
    "#Median and Average are close to actual mid of range, choosing bucket size of 10 for app_bought\n",
    "def getAppBoughtBucket(app_bought):\n",
    "    return str(app_bought//10*10)+\"-\"+str((app_bought//10+1)*10)\n",
    "\n",
    "reviews_df['app_bought_bucket'] = reviews_df.app_bought.apply(getAppBoughtBucket)"
   ]
  },
  {
   "cell_type": "code",
   "execution_count": 9,
   "metadata": {},
   "outputs": [
    {
     "data": {
      "text/plain": [
       "(0, 500, 143.4616, 108.0)"
      ]
     },
     "execution_count": 9,
     "metadata": {},
     "output_type": "execute_result"
    }
   ],
   "source": [
    "#Parameters for decision on bucket size for money_spent\n",
    "(reviews_df.money_spent.min(), reviews_df.money_spent.max(), reviews_df.money_spent.mean(), reviews_df.money_spent.median())"
   ]
  },
  {
   "cell_type": "code",
   "execution_count": 10,
   "metadata": {},
   "outputs": [],
   "source": [
    "# the centrality analysis reveales that despite a large range of 500, most data points lie in \n",
    "# the lower range. Choosing small bucket size of 25 in interest of more granular information.\n",
    "\n",
    "reviews_df['money_spent_bucket'] = reviews_df.money_spent.apply(lambda x:str(x//25*25)+\"-\"+str((x//25+1)*25))"
   ]
  },
  {
   "cell_type": "code",
   "execution_count": 11,
   "metadata": {},
   "outputs": [
    {
     "data": {
      "text/html": [
       "<div>\n",
       "<style scoped>\n",
       "    .dataframe tbody tr th:only-of-type {\n",
       "        vertical-align: middle;\n",
       "    }\n",
       "\n",
       "    .dataframe tbody tr th {\n",
       "        vertical-align: top;\n",
       "    }\n",
       "\n",
       "    .dataframe thead th {\n",
       "        text-align: right;\n",
       "    }\n",
       "</style>\n",
       "<table border=\"1\" class=\"dataframe\">\n",
       "  <thead>\n",
       "    <tr style=\"text-align: right;\">\n",
       "      <th></th>\n",
       "      <th>title</th>\n",
       "      <th>review</th>\n",
       "      <th>product_name</th>\n",
       "      <th>iso</th>\n",
       "      <th>score</th>\n",
       "      <th>date</th>\n",
       "      <th>app_bought</th>\n",
       "      <th>money_spent</th>\n",
       "      <th>app_bought_bucket</th>\n",
       "      <th>money_spent_bucket</th>\n",
       "    </tr>\n",
       "  </thead>\n",
       "  <tbody>\n",
       "    <tr>\n",
       "      <td>0</td>\n",
       "      <td>Love it!</td>\n",
       "      <td>I use this app to read r/nosleep stories befor...</td>\n",
       "      <td>Reddit Official App: Trending News and Hot Topics</td>\n",
       "      <td>US</td>\n",
       "      <td>5</td>\n",
       "      <td>10-07-2017</td>\n",
       "      <td>47</td>\n",
       "      <td>140</td>\n",
       "      <td>40-50</td>\n",
       "      <td>125-150</td>\n",
       "    </tr>\n",
       "    <tr>\n",
       "      <td>1</td>\n",
       "      <td>•••</td>\n",
       "      <td>Dank memes</td>\n",
       "      <td>Reddit Official App: Trending News and Hot Topics</td>\n",
       "      <td>MY</td>\n",
       "      <td>5</td>\n",
       "      <td>10-07-2017</td>\n",
       "      <td>3</td>\n",
       "      <td>10</td>\n",
       "      <td>0-10</td>\n",
       "      <td>0-25</td>\n",
       "    </tr>\n",
       "    <tr>\n",
       "      <td>2</td>\n",
       "      <td>Very good app</td>\n",
       "      <td>Love the app, makes using Reddit very convenient</td>\n",
       "      <td>Reddit Official App: Trending News and Hot Topics</td>\n",
       "      <td>US</td>\n",
       "      <td>5</td>\n",
       "      <td>10-07-2017</td>\n",
       "      <td>61</td>\n",
       "      <td>182</td>\n",
       "      <td>60-70</td>\n",
       "      <td>175-200</td>\n",
       "    </tr>\n",
       "    <tr>\n",
       "      <td>3</td>\n",
       "      <td>CNN here</td>\n",
       "      <td>As the CEO of CNN I find this app repulsive. A...</td>\n",
       "      <td>Reddit Official App: Trending News and Hot Topics</td>\n",
       "      <td>US</td>\n",
       "      <td>5</td>\n",
       "      <td>10-07-2017</td>\n",
       "      <td>3</td>\n",
       "      <td>6</td>\n",
       "      <td>0-10</td>\n",
       "      <td>0-25</td>\n",
       "    </tr>\n",
       "    <tr>\n",
       "      <td>4</td>\n",
       "      <td>Easy peasy!</td>\n",
       "      <td>I was infrequent in my visits, mainly mobile w...</td>\n",
       "      <td>Reddit Official App: Trending News and Hot Topics</td>\n",
       "      <td>US</td>\n",
       "      <td>5</td>\n",
       "      <td>10-07-2017</td>\n",
       "      <td>59</td>\n",
       "      <td>178</td>\n",
       "      <td>50-60</td>\n",
       "      <td>175-200</td>\n",
       "    </tr>\n",
       "  </tbody>\n",
       "</table>\n",
       "</div>"
      ],
      "text/plain": [
       "           title                                             review  \\\n",
       "0       Love it!  I use this app to read r/nosleep stories befor...   \n",
       "1            •••                                         Dank memes   \n",
       "2  Very good app   Love the app, makes using Reddit very convenient   \n",
       "3       CNN here  As the CEO of CNN I find this app repulsive. A...   \n",
       "4    Easy peasy!  I was infrequent in my visits, mainly mobile w...   \n",
       "\n",
       "                                        product_name iso  score        date  \\\n",
       "0  Reddit Official App: Trending News and Hot Topics  US      5  10-07-2017   \n",
       "1  Reddit Official App: Trending News and Hot Topics  MY      5  10-07-2017   \n",
       "2  Reddit Official App: Trending News and Hot Topics  US      5  10-07-2017   \n",
       "3  Reddit Official App: Trending News and Hot Topics  US      5  10-07-2017   \n",
       "4  Reddit Official App: Trending News and Hot Topics  US      5  10-07-2017   \n",
       "\n",
       "   app_bought  money_spent app_bought_bucket money_spent_bucket  \n",
       "0          47          140             40-50            125-150  \n",
       "1           3           10              0-10               0-25  \n",
       "2          61          182             60-70            175-200  \n",
       "3           3            6              0-10               0-25  \n",
       "4          59          178             50-60            175-200  "
      ]
     },
     "execution_count": 11,
     "metadata": {},
     "output_type": "execute_result"
    }
   ],
   "source": [
    "reviews_df.head()"
   ]
  },
  {
   "cell_type": "markdown",
   "metadata": {},
   "source": [
    "# Writing cleaned up data to csv file"
   ]
  },
  {
   "cell_type": "code",
   "execution_count": 12,
   "metadata": {},
   "outputs": [],
   "source": [
    "#cleaned up csv\n",
    "reviews_df[['title', 'review', 'product_name', 'iso', 'score', 'date', 'app_bought', 'money_spent']].to_csv('reviews.csv')"
   ]
  },
  {
   "cell_type": "markdown",
   "metadata": {},
   "source": [
    "# Writing to sqlite database engine"
   ]
  },
  {
   "cell_type": "code",
   "execution_count": 13,
   "metadata": {},
   "outputs": [],
   "source": [
    "#persist into sqlite database\n",
    "conn = sqlite3.connect('exercise_database.db')\n",
    "df = reviews_df[['review','title','iso','score','date','app_bought','money_spent','app_bought_bucket','money_spent_bucket']]\n",
    "df.to_sql('reviews', conn, index=False, if_exists='replace')\n",
    "conn.close()"
   ]
  },
  {
   "cell_type": "markdown",
   "metadata": {},
   "source": [
    "# Querying sqlite database"
   ]
  },
  {
   "cell_type": "code",
   "execution_count": 14,
   "metadata": {},
   "outputs": [],
   "source": [
    "#read from sqlite database and perform queries\n",
    "conn = sqlite3.connect(\"exercise_database.db\")\n",
    "query1 = \"\"\"\n",
    "    SELECT \n",
    "        iso, AVG(score) AS avg_score\n",
    "    FROM reviews \n",
    "    GROUP BY iso \"\"\"\n",
    "query2 = \"\"\"\n",
    "    SELECT\n",
    "        app_bought_bucket, MAX(score) AS max_score\n",
    "    FROM reviews\n",
    "    GROUP BY app_bought_bucket \"\"\"\n",
    "query3 = \"\"\"\n",
    "    SELECT\n",
    "        date AS day, AVG(score) AS avg_score\n",
    "    FROM reviews\n",
    "    GROUP BY date \"\"\"\n"
   ]
  },
  {
   "cell_type": "code",
   "execution_count": 15,
   "metadata": {},
   "outputs": [
    {
     "data": {
      "text/html": [
       "<div>\n",
       "<style scoped>\n",
       "    .dataframe tbody tr th:only-of-type {\n",
       "        vertical-align: middle;\n",
       "    }\n",
       "\n",
       "    .dataframe tbody tr th {\n",
       "        vertical-align: top;\n",
       "    }\n",
       "\n",
       "    .dataframe thead th {\n",
       "        text-align: right;\n",
       "    }\n",
       "</style>\n",
       "<table border=\"1\" class=\"dataframe\">\n",
       "  <thead>\n",
       "    <tr style=\"text-align: right;\">\n",
       "      <th></th>\n",
       "      <th>iso</th>\n",
       "      <th>avg_score</th>\n",
       "    </tr>\n",
       "  </thead>\n",
       "  <tbody>\n",
       "    <tr>\n",
       "      <td>0</td>\n",
       "      <td>AE</td>\n",
       "      <td>4.714286</td>\n",
       "    </tr>\n",
       "    <tr>\n",
       "      <td>1</td>\n",
       "      <td>AL</td>\n",
       "      <td>5.000000</td>\n",
       "    </tr>\n",
       "    <tr>\n",
       "      <td>2</td>\n",
       "      <td>AR</td>\n",
       "      <td>4.900000</td>\n",
       "    </tr>\n",
       "    <tr>\n",
       "      <td>3</td>\n",
       "      <td>AT</td>\n",
       "      <td>4.461538</td>\n",
       "    </tr>\n",
       "    <tr>\n",
       "      <td>4</td>\n",
       "      <td>AU</td>\n",
       "      <td>4.505618</td>\n",
       "    </tr>\n",
       "  </tbody>\n",
       "</table>\n",
       "</div>"
      ],
      "text/plain": [
       "  iso  avg_score\n",
       "0  AE   4.714286\n",
       "1  AL   5.000000\n",
       "2  AR   4.900000\n",
       "3  AT   4.461538\n",
       "4  AU   4.505618"
      ]
     },
     "execution_count": 15,
     "metadata": {},
     "output_type": "execute_result"
    }
   ],
   "source": [
    "pd.read_sql_query(query1, conn).head()"
   ]
  },
  {
   "cell_type": "code",
   "execution_count": 16,
   "metadata": {},
   "outputs": [
    {
     "data": {
      "text/html": [
       "<div>\n",
       "<style scoped>\n",
       "    .dataframe tbody tr th:only-of-type {\n",
       "        vertical-align: middle;\n",
       "    }\n",
       "\n",
       "    .dataframe tbody tr th {\n",
       "        vertical-align: top;\n",
       "    }\n",
       "\n",
       "    .dataframe thead th {\n",
       "        text-align: right;\n",
       "    }\n",
       "</style>\n",
       "<table border=\"1\" class=\"dataframe\">\n",
       "  <thead>\n",
       "    <tr style=\"text-align: right;\">\n",
       "      <th></th>\n",
       "      <th>app_bought_bucket</th>\n",
       "      <th>max_score</th>\n",
       "    </tr>\n",
       "  </thead>\n",
       "  <tbody>\n",
       "    <tr>\n",
       "      <td>0</td>\n",
       "      <td>0-10</td>\n",
       "      <td>5</td>\n",
       "    </tr>\n",
       "    <tr>\n",
       "      <td>1</td>\n",
       "      <td>10-20</td>\n",
       "      <td>5</td>\n",
       "    </tr>\n",
       "    <tr>\n",
       "      <td>2</td>\n",
       "      <td>100-110</td>\n",
       "      <td>5</td>\n",
       "    </tr>\n",
       "    <tr>\n",
       "      <td>3</td>\n",
       "      <td>20-30</td>\n",
       "      <td>5</td>\n",
       "    </tr>\n",
       "    <tr>\n",
       "      <td>4</td>\n",
       "      <td>30-40</td>\n",
       "      <td>5</td>\n",
       "    </tr>\n",
       "    <tr>\n",
       "      <td>5</td>\n",
       "      <td>40-50</td>\n",
       "      <td>5</td>\n",
       "    </tr>\n",
       "    <tr>\n",
       "      <td>6</td>\n",
       "      <td>50-60</td>\n",
       "      <td>5</td>\n",
       "    </tr>\n",
       "    <tr>\n",
       "      <td>7</td>\n",
       "      <td>60-70</td>\n",
       "      <td>5</td>\n",
       "    </tr>\n",
       "    <tr>\n",
       "      <td>8</td>\n",
       "      <td>70-80</td>\n",
       "      <td>5</td>\n",
       "    </tr>\n",
       "    <tr>\n",
       "      <td>9</td>\n",
       "      <td>80-90</td>\n",
       "      <td>5</td>\n",
       "    </tr>\n",
       "    <tr>\n",
       "      <td>10</td>\n",
       "      <td>90-100</td>\n",
       "      <td>5</td>\n",
       "    </tr>\n",
       "  </tbody>\n",
       "</table>\n",
       "</div>"
      ],
      "text/plain": [
       "   app_bought_bucket  max_score\n",
       "0               0-10          5\n",
       "1              10-20          5\n",
       "2            100-110          5\n",
       "3              20-30          5\n",
       "4              30-40          5\n",
       "5              40-50          5\n",
       "6              50-60          5\n",
       "7              60-70          5\n",
       "8              70-80          5\n",
       "9              80-90          5\n",
       "10            90-100          5"
      ]
     },
     "execution_count": 16,
     "metadata": {},
     "output_type": "execute_result"
    }
   ],
   "source": [
    "pd.read_sql_query(query2, conn)"
   ]
  },
  {
   "cell_type": "code",
   "execution_count": 17,
   "metadata": {},
   "outputs": [
    {
     "data": {
      "text/html": [
       "<div>\n",
       "<style scoped>\n",
       "    .dataframe tbody tr th:only-of-type {\n",
       "        vertical-align: middle;\n",
       "    }\n",
       "\n",
       "    .dataframe tbody tr th {\n",
       "        vertical-align: top;\n",
       "    }\n",
       "\n",
       "    .dataframe thead th {\n",
       "        text-align: right;\n",
       "    }\n",
       "</style>\n",
       "<table border=\"1\" class=\"dataframe\">\n",
       "  <thead>\n",
       "    <tr style=\"text-align: right;\">\n",
       "      <th></th>\n",
       "      <th>day</th>\n",
       "      <th>avg_score</th>\n",
       "    </tr>\n",
       "  </thead>\n",
       "  <tbody>\n",
       "    <tr>\n",
       "      <td>0</td>\n",
       "      <td>01-06-2017</td>\n",
       "      <td>4.516624</td>\n",
       "    </tr>\n",
       "    <tr>\n",
       "      <td>1</td>\n",
       "      <td>01-07-2017</td>\n",
       "      <td>4.718750</td>\n",
       "    </tr>\n",
       "    <tr>\n",
       "      <td>2</td>\n",
       "      <td>02-06-2017</td>\n",
       "      <td>4.523605</td>\n",
       "    </tr>\n",
       "    <tr>\n",
       "      <td>3</td>\n",
       "      <td>02-07-2017</td>\n",
       "      <td>4.689655</td>\n",
       "    </tr>\n",
       "    <tr>\n",
       "      <td>4</td>\n",
       "      <td>03-06-2017</td>\n",
       "      <td>4.670732</td>\n",
       "    </tr>\n",
       "  </tbody>\n",
       "</table>\n",
       "</div>"
      ],
      "text/plain": [
       "          day  avg_score\n",
       "0  01-06-2017   4.516624\n",
       "1  01-07-2017   4.718750\n",
       "2  02-06-2017   4.523605\n",
       "3  02-07-2017   4.689655\n",
       "4  03-06-2017   4.670732"
      ]
     },
     "execution_count": 17,
     "metadata": {},
     "output_type": "execute_result"
    }
   ],
   "source": [
    "pd.read_sql_query(query3, conn).head()"
   ]
  },
  {
   "cell_type": "code",
   "execution_count": 18,
   "metadata": {},
   "outputs": [],
   "source": [
    "#closing connection\n",
    "conn.close()"
   ]
  },
  {
   "cell_type": "code",
   "execution_count": null,
   "metadata": {},
   "outputs": [],
   "source": []
  }
 ],
 "metadata": {
  "kernelspec": {
   "display_name": "Python 3",
   "language": "python",
   "name": "python3"
  },
  "language_info": {
   "codemirror_mode": {
    "name": "ipython",
    "version": 3
   },
   "file_extension": ".py",
   "mimetype": "text/x-python",
   "name": "python",
   "nbconvert_exporter": "python",
   "pygments_lexer": "ipython3",
   "version": "3.7.4"
  }
 },
 "nbformat": 4,
 "nbformat_minor": 2
}
