{
 "cells": [
  {
   "cell_type": "code",
   "execution_count": 1,
   "metadata": {
    "collapsed": true
   },
   "outputs": [],
   "source": [
    "import pandas as pd\n",
    "import matplotlib.pyplot as plt\n",
    "from datetime import datetime"
   ]
  },
  {
   "cell_type": "code",
   "execution_count": 2,
   "metadata": {
    "collapsed": true
   },
   "outputs": [],
   "source": [
    "df = pd.read_csv('reddit_exercise_data.csv')"
   ]
  },
  {
   "cell_type": "markdown",
   "metadata": {},
   "source": [
    "# Exploration"
   ]
  },
  {
   "cell_type": "code",
   "execution_count": 3,
   "metadata": {},
   "outputs": [
    {
     "data": {
      "image/png": "[encoded data removed]",
      "text/plain": [
       "<matplotlib.figure.Figure at 0x2cb814e4320>"
      ]
     },
     "metadata": {},
     "output_type": "display_data"
    }
   ],
   "source": [
    "df['app_bought'].hist()\n",
    "plt.suptitle('App bought distribution')\n",
    "plt.show()"
   ]
  },
  {
   "cell_type": "code",
   "execution_count": 4,
   "metadata": {},
   "outputs": [
    {
     "data": {
      "image/png": "[encoded data removed]",
      "text/plain": [
       "<matplotlib.figure.Figure at 0x2cb80c3e1d0>"
      ]
     },
     "metadata": {},
     "output_type": "display_data"
    }
   ],
   "source": [
    "df['money_spent'].hist()\n",
    "plt.suptitle('Spent money distribution')\n",
    "plt.show()"
   ]
  },
  {
   "cell_type": "markdown",
   "metadata": {},
   "source": [
    "## Data cleaning"
   ]
  },
  {
   "cell_type": "code",
   "execution_count": 5,
   "metadata": {
    "collapsed": true
   },
   "outputs": [],
   "source": [
    "def parse_date(date):    \n",
    "    date_format = ['%y-%m-%d %H:%M:%S', '%Y-%m-%d %H:%M:%S', '%m/%d/%y']\n",
    "    for f in date_format:\n",
    "        try:\n",
    "            parsed_date = datetime.strptime(date, f) \n",
    "            break \n",
    "        except ValueError:\n",
    "            pass\n",
    "    return parsed_date"
   ]
  },
  {
   "cell_type": "code",
   "execution_count": 6,
   "metadata": {
    "collapsed": true
   },
   "outputs": [],
   "source": [
    "def bucket_data(data):\n",
    "    return pd.cut(data, 5)"
   ]
  },
  {
   "cell_type": "code",
   "execution_count": 7,
   "metadata": {
    "collapsed": true
   },
   "outputs": [],
   "source": [
    "def clean_data(df):\n",
    "    df['date'] = pd.to_datetime(df['date'].apply(parse_date))\n",
    "    df['app_bought_bucket'] = bucket_data(df['app_bought'])\n",
    "    df['money_spent_bucket'] = bucket_data(df['money_spent'])\n",
    "    df['review'] = df['review'].str.replace(\"'\", \" \")\n",
    "    df['title'] = df['title'].str.replace(\"'\", \" \")\n",
    "    return df"
   ]
  },
  {
   "cell_type": "code",
   "execution_count": 8,
   "metadata": {
    "collapsed": true
   },
   "outputs": [],
   "source": [
    "df = clean_data(df)"
   ]
  },
  {
   "cell_type": "code",
   "execution_count": 9,
   "metadata": {
    "collapsed": true
   },
   "outputs": [],
   "source": [
    "df.to_csv('cleaned_data.csv')"
   ]
  },
  {
   "cell_type": "markdown",
   "metadata": {},
   "source": [
    "## SQlite"
   ]
  },
  {
   "cell_type": "code",
   "execution_count": 10,
   "metadata": {
    "collapsed": true
   },
   "outputs": [],
   "source": [
    "import sqlite3\n",
    "\n",
    "class ReviewTable():\n",
    "    INSERT_STATEMENT = \"\"\" INSERT INTO reviews VALUES('{}', '{}', '{}', {}, '{}', {}, {}, '{}', '{}' ) \"\"\"\n",
    "    \n",
    "    def __init__(self, db='exercise_database.db'):\n",
    "        self.conn = sqlite3.connect(db)\n",
    "        self.cursor = self.conn.cursor()\n",
    "    \n",
    "    def insert(self, values):\n",
    "        try:\n",
    "            q = ReviewTable.INSERT_STATEMENT.format(values['title'], \n",
    "                                    values['review'],\n",
    "                                    values['iso'], \n",
    "                                    values['score'],\n",
    "                                    values['date'], \n",
    "                                    values['app_bought'], \n",
    "                                    values['money_spent'],\n",
    "                                    values['app_bought_bucket'],\n",
    "                                    values['money_spent_bucket']\n",
    "                                   )\n",
    "            self.cursor.execute(q)\n",
    "            self.conn.commit()\n",
    "        except KeyError:\n",
    "            print('missing data')\n",
    "        except sqlite3.Error as e:\n",
    "            print('something went wrong' + e)\n",
    "            \n",
    "    def clear_table(self):\n",
    "        self.cursor.execute('DELETE FROM reviews')\n",
    "        self.conn.commit()\n",
    "    \n",
    "    def count_all(self):\n",
    "        self.cursor.execute('SELECT count(*) FROM reviews')\n",
    "        self.conn.commit()\n",
    "        return  self.cursor.fetchall()\n",
    "    \n",
    "    def query(self, query):\n",
    "        self.cursor.execute(query)\n",
    "        self.conn.commit()\n",
    "        return  self.cursor.fetchall()"
   ]
  },
  {
   "cell_type": "code",
   "execution_count": 11,
   "metadata": {
    "collapsed": true
   },
   "outputs": [],
   "source": [
    "review_table = ReviewTable(db='exercise_database.db')"
   ]
  },
  {
   "cell_type": "code",
   "execution_count": 12,
   "metadata": {
    "collapsed": true
   },
   "outputs": [],
   "source": [
    "review_table.clear_table()"
   ]
  },
  {
   "cell_type": "code",
   "execution_count": 13,
   "metadata": {
    "collapsed": true
   },
   "outputs": [],
   "source": [
    "for index, row in df.iterrows():\n",
    "    review_table.insert(row)"
   ]
  },
  {
   "cell_type": "code",
   "execution_count": 13,
   "metadata": {},
   "outputs": [
    {
     "data": {
      "text/plain": [
       "[(5000,)]"
      ]
     },
     "execution_count": 13,
     "metadata": {},
     "output_type": "execute_result"
    }
   ],
   "source": [
    "review_table.count_all()"
   ]
  },
  {
   "cell_type": "markdown",
   "metadata": {},
   "source": [
    "### 1. Average score by ISO"
   ]
  },
  {
   "cell_type": "code",
   "execution_count": 14,
   "metadata": {},
   "outputs": [
    {
     "data": {
      "text/html": [
       "<div>\n",
       "<style>\n",
       "    .dataframe thead tr:only-child th {\n",
       "        text-align: right;\n",
       "    }\n",
       "\n",
       "    .dataframe thead th {\n",
       "        text-align: left;\n",
       "    }\n",
       "\n",
       "    .dataframe tbody tr th {\n",
       "        vertical-align: top;\n",
       "    }\n",
       "</style>\n",
       "<table border=\"1\" class=\"dataframe\">\n",
       "  <thead>\n",
       "    <tr style=\"text-align: right;\">\n",
       "      <th></th>\n",
       "      <th>avg(score)</th>\n",
       "      <th>iso</th>\n",
       "    </tr>\n",
       "  </thead>\n",
       "  <tbody>\n",
       "    <tr>\n",
       "      <th>3</th>\n",
       "      <td>4.461538</td>\n",
       "      <td>AT</td>\n",
       "    </tr>\n",
       "    <tr>\n",
       "      <th>4</th>\n",
       "      <td>4.505618</td>\n",
       "      <td>AU</td>\n",
       "    </tr>\n",
       "    <tr>\n",
       "      <th>0</th>\n",
       "      <td>4.714286</td>\n",
       "      <td>AE</td>\n",
       "    </tr>\n",
       "    <tr>\n",
       "      <th>2</th>\n",
       "      <td>4.900000</td>\n",
       "      <td>AR</td>\n",
       "    </tr>\n",
       "    <tr>\n",
       "      <th>1</th>\n",
       "      <td>5.000000</td>\n",
       "      <td>AL</td>\n",
       "    </tr>\n",
       "  </tbody>\n",
       "</table>\n",
       "</div>"
      ],
      "text/plain": [
       "   avg(score) iso\n",
       "3    4.461538  AT\n",
       "4    4.505618  AU\n",
       "0    4.714286  AE\n",
       "2    4.900000  AR\n",
       "1    5.000000  AL"
      ]
     },
     "execution_count": 14,
     "metadata": {},
     "output_type": "execute_result"
    }
   ],
   "source": [
    "pd.read_sql_query('SELECT avg(score), iso FROM reviews GROUP BY 2', review_table.conn)\\\n",
    "        .head(5)\\\n",
    "        .sort_values('avg(score)', ascending=True)"
   ]
  },
  {
   "cell_type": "markdown",
   "metadata": {},
   "source": [
    "### 2. Maximum score by app_bought_bucket"
   ]
  },
  {
   "cell_type": "code",
   "execution_count": 15,
   "metadata": {},
   "outputs": [
    {
     "data": {
      "text/html": [
       "<div>\n",
       "<style>\n",
       "    .dataframe thead tr:only-child th {\n",
       "        text-align: right;\n",
       "    }\n",
       "\n",
       "    .dataframe thead th {\n",
       "        text-align: left;\n",
       "    }\n",
       "\n",
       "    .dataframe tbody tr th {\n",
       "        vertical-align: top;\n",
       "    }\n",
       "</style>\n",
       "<table border=\"1\" class=\"dataframe\">\n",
       "  <thead>\n",
       "    <tr style=\"text-align: right;\">\n",
       "      <th></th>\n",
       "      <th>max(score)</th>\n",
       "      <th>apps_bought_bucket</th>\n",
       "    </tr>\n",
       "  </thead>\n",
       "  <tbody>\n",
       "    <tr>\n",
       "      <th>0</th>\n",
       "      <td>5</td>\n",
       "      <td>(-0.1, 20.0]</td>\n",
       "    </tr>\n",
       "    <tr>\n",
       "      <th>1</th>\n",
       "      <td>5</td>\n",
       "      <td>(20.0, 40.0]</td>\n",
       "    </tr>\n",
       "    <tr>\n",
       "      <th>2</th>\n",
       "      <td>5</td>\n",
       "      <td>(40.0, 60.0]</td>\n",
       "    </tr>\n",
       "    <tr>\n",
       "      <th>3</th>\n",
       "      <td>5</td>\n",
       "      <td>(60.0, 80.0]</td>\n",
       "    </tr>\n",
       "    <tr>\n",
       "      <th>4</th>\n",
       "      <td>5</td>\n",
       "      <td>(80.0, 100.0]</td>\n",
       "    </tr>\n",
       "  </tbody>\n",
       "</table>\n",
       "</div>"
      ],
      "text/plain": [
       "   max(score) apps_bought_bucket\n",
       "0           5       (-0.1, 20.0]\n",
       "1           5       (20.0, 40.0]\n",
       "2           5       (40.0, 60.0]\n",
       "3           5       (60.0, 80.0]\n",
       "4           5      (80.0, 100.0]"
      ]
     },
     "execution_count": 15,
     "metadata": {},
     "output_type": "execute_result"
    }
   ],
   "source": [
    "pd.read_sql_query('SELECT max(score), apps_bought_bucket FROM reviews GROUP BY 2', review_table.conn)\\\n",
    "        .sort_values('max(score)', ascending=True)"
   ]
  },
  {
   "cell_type": "markdown",
   "metadata": {},
   "source": [
    "### 3. Average score over time (day)"
   ]
  },
  {
   "cell_type": "code",
   "execution_count": 16,
   "metadata": {},
   "outputs": [
    {
     "data": {
      "image/png": "[encoded data removed]",
      "text/plain": [
       "<matplotlib.figure.Figure at 0x28cc22fad30>"
      ]
     },
     "metadata": {},
     "output_type": "display_data"
    }
   ],
   "source": [
    "avg_score_over_time = pd.read_sql_query('SELECT date, avg(score) FROM reviews GROUP BY 1', review_table.conn).set_index('date')\n",
    "avg_score_over_time.plot(figsize=(15, 10))\n",
    "plt.show()"
   ]
  }
 ],
 "metadata": {
  "kernelspec": {
   "display_name": "Python 3",
   "language": "python",
   "name": "python3"
  },
  "language_info": {
   "codemirror_mode": {
    "name": "ipython",
    "version": 3
   },
   "file_extension": ".py",
   "mimetype": "text/x-python",
   "name": "python",
   "nbconvert_exporter": "python",
   "pygments_lexer": "ipython3",
   "version": "3.6.1"
  }
 },
 "nbformat": 4,
 "nbformat_minor": 2
}
