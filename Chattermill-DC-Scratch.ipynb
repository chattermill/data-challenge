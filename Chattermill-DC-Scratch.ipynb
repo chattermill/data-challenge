{
 "cells": [
  {
   "cell_type": "markdown",
   "metadata": {},
   "source": [
    "# Import Libraries\n",
    "Use escapechar to remove any line continuation\n",
    "<br> Allow emojis in table"
   ]
  },
  {
   "cell_type": "code",
   "execution_count": 350,
   "metadata": {},
   "outputs": [],
   "source": [
    "import emoji\n",
    "import sqlite3\n",
    "import pandas as pd\n",
    "import numpy as np\n",
    "import seaborn as sns\n",
    "import matplotlib.pyplot as plt\n",
    "%matplotlib inline\n",
    "sns.set()\n",
    "df = pd.read_csv('./reddit_exercise_data.csv', sep=',', escapechar='\\n')\n",
    "pd.set_option('display.max_columns', df.shape[1])\n"
   ]
  },
  {
   "cell_type": "code",
   "execution_count": 319,
   "metadata": {},
   "outputs": [
    {
     "name": "stdout",
     "output_type": "stream",
     "text": [
      "<class 'pandas.core.frame.DataFrame'>\n",
      "RangeIndex: 5000 entries, 0 to 4999\n",
      "Data columns (total 8 columns):\n",
      "title           5000 non-null object\n",
      "review          5000 non-null object\n",
      "product_name    5000 non-null object\n",
      "iso             5000 non-null object\n",
      "score           5000 non-null int64\n",
      "date            5000 non-null object\n",
      "app_bought      5000 non-null int64\n",
      "money_spent     5000 non-null int64\n",
      "dtypes: int64(3), object(5)\n",
      "memory usage: 312.6+ KB\n"
     ]
    },
    {
     "data": {
      "text/plain": [
       "title           0\n",
       "review          0\n",
       "product_name    0\n",
       "iso             0\n",
       "score           0\n",
       "date            0\n",
       "app_bought      0\n",
       "money_spent     0\n",
       "dtype: int64"
      ]
     },
     "execution_count": 319,
     "metadata": {},
     "output_type": "execute_result"
    }
   ],
   "source": [
    "#Check for data types and for null/na values\n",
    "df.info(); df.isna().sum()"
   ]
  },
  {
   "cell_type": "code",
   "execution_count": 320,
   "metadata": {},
   "outputs": [
    {
     "data": {
      "text/html": [
       "<div>\n",
       "<style scoped>\n",
       "    .dataframe tbody tr th:only-of-type {\n",
       "        vertical-align: middle;\n",
       "    }\n",
       "\n",
       "    .dataframe tbody tr th {\n",
       "        vertical-align: top;\n",
       "    }\n",
       "\n",
       "    .dataframe thead th {\n",
       "        text-align: right;\n",
       "    }\n",
       "</style>\n",
       "<table border=\"1\" class=\"dataframe\">\n",
       "  <thead>\n",
       "    <tr style=\"text-align: right;\">\n",
       "      <th></th>\n",
       "      <th>title</th>\n",
       "      <th>review</th>\n",
       "      <th>product_name</th>\n",
       "      <th>iso</th>\n",
       "      <th>score</th>\n",
       "      <th>date</th>\n",
       "      <th>app_bought</th>\n",
       "      <th>money_spent</th>\n",
       "    </tr>\n",
       "  </thead>\n",
       "  <tbody>\n",
       "    <tr>\n",
       "      <th>0</th>\n",
       "      <td>Love it!</td>\n",
       "      <td>I use this app to read r/nosleep stories befor...</td>\n",
       "      <td>Reddit Official App: Trending News and Hot Topics</td>\n",
       "      <td>US</td>\n",
       "      <td>5</td>\n",
       "      <td>17-7-10 0:0:0</td>\n",
       "      <td>47</td>\n",
       "      <td>140</td>\n",
       "    </tr>\n",
       "    <tr>\n",
       "      <th>1</th>\n",
       "      <td>•••</td>\n",
       "      <td>Dank memes</td>\n",
       "      <td>Reddit Official App: Trending News and Hot Topics</td>\n",
       "      <td>MY</td>\n",
       "      <td>5</td>\n",
       "      <td>17-7-10 0:0:0</td>\n",
       "      <td>3</td>\n",
       "      <td>10</td>\n",
       "    </tr>\n",
       "    <tr>\n",
       "      <th>2</th>\n",
       "      <td>Very good app</td>\n",
       "      <td>Love the app, makes using Reddit very convenient</td>\n",
       "      <td>Reddit Official App: Trending News and Hot Topics</td>\n",
       "      <td>US</td>\n",
       "      <td>5</td>\n",
       "      <td>17-7-10 0:0:0</td>\n",
       "      <td>61</td>\n",
       "      <td>182</td>\n",
       "    </tr>\n",
       "    <tr>\n",
       "      <th>3</th>\n",
       "      <td>CNN here</td>\n",
       "      <td>As the CEO of CNN I find this app repulsive. A...</td>\n",
       "      <td>Reddit Official App: Trending News and Hot Topics</td>\n",
       "      <td>US</td>\n",
       "      <td>5</td>\n",
       "      <td>17-7-10 0:0:0</td>\n",
       "      <td>3</td>\n",
       "      <td>6</td>\n",
       "    </tr>\n",
       "    <tr>\n",
       "      <th>4</th>\n",
       "      <td>Easy peasy!</td>\n",
       "      <td>I was infrequent in my visits, mainly mobile w...</td>\n",
       "      <td>Reddit Official App: Trending News and Hot Topics</td>\n",
       "      <td>US</td>\n",
       "      <td>5</td>\n",
       "      <td>17-7-10 0:0:0</td>\n",
       "      <td>59</td>\n",
       "      <td>178</td>\n",
       "    </tr>\n",
       "    <tr>\n",
       "      <th>5</th>\n",
       "      <td>Reddit!!!</td>\n",
       "      <td>Never knew it was something so useful</td>\n",
       "      <td>Reddit Official App: Trending News and Hot Topics</td>\n",
       "      <td>US</td>\n",
       "      <td>5</td>\n",
       "      <td>17-7-10 0:0:0</td>\n",
       "      <td>24</td>\n",
       "      <td>71</td>\n",
       "    </tr>\n",
       "    <tr>\n",
       "      <th>6</th>\n",
       "      <td>Good reading</td>\n",
       "      <td>It's good reading and I like the colours.</td>\n",
       "      <td>Reddit Official App: Trending News and Hot Topics</td>\n",
       "      <td>CA</td>\n",
       "      <td>5</td>\n",
       "      <td>17-7-10 0:0:0</td>\n",
       "      <td>28</td>\n",
       "      <td>112</td>\n",
       "    </tr>\n",
       "    <tr>\n",
       "      <th>7</th>\n",
       "      <td>Works great</td>\n",
       "      <td>I've never been an active Reddit user, but the...</td>\n",
       "      <td>Reddit Official App: Trending News and Hot Topics</td>\n",
       "      <td>US</td>\n",
       "      <td>4</td>\n",
       "      <td>17-7-10 0:0:0</td>\n",
       "      <td>24</td>\n",
       "      <td>120</td>\n",
       "    </tr>\n",
       "    <tr>\n",
       "      <th>8</th>\n",
       "      <td>App is better than website</td>\n",
       "      <td>Please make your website equally easy to use. ...</td>\n",
       "      <td>Reddit Official App: Trending News and Hot Topics</td>\n",
       "      <td>US</td>\n",
       "      <td>5</td>\n",
       "      <td>17-7-10 0:0:0</td>\n",
       "      <td>35</td>\n",
       "      <td>140</td>\n",
       "    </tr>\n",
       "    <tr>\n",
       "      <th>9</th>\n",
       "      <td>Great Time Waster</td>\n",
       "      <td>The amount of time spent on this app is ridicu...</td>\n",
       "      <td>Reddit Official App: Trending News and Hot Topics</td>\n",
       "      <td>US</td>\n",
       "      <td>5</td>\n",
       "      <td>17-7-10 0:0:0</td>\n",
       "      <td>44</td>\n",
       "      <td>132</td>\n",
       "    </tr>\n",
       "  </tbody>\n",
       "</table>\n",
       "</div>"
      ],
      "text/plain": [
       "                        title  \\\n",
       "0                    Love it!   \n",
       "1                         •••   \n",
       "2               Very good app   \n",
       "3                    CNN here   \n",
       "4                 Easy peasy!   \n",
       "5                   Reddit!!!   \n",
       "6                Good reading   \n",
       "7                 Works great   \n",
       "8  App is better than website   \n",
       "9           Great Time Waster   \n",
       "\n",
       "                                              review  \\\n",
       "0  I use this app to read r/nosleep stories befor...   \n",
       "1                                         Dank memes   \n",
       "2   Love the app, makes using Reddit very convenient   \n",
       "3  As the CEO of CNN I find this app repulsive. A...   \n",
       "4  I was infrequent in my visits, mainly mobile w...   \n",
       "5              Never knew it was something so useful   \n",
       "6          It's good reading and I like the colours.   \n",
       "7  I've never been an active Reddit user, but the...   \n",
       "8  Please make your website equally easy to use. ...   \n",
       "9  The amount of time spent on this app is ridicu...   \n",
       "\n",
       "                                        product_name iso  score  \\\n",
       "0  Reddit Official App: Trending News and Hot Topics  US      5   \n",
       "1  Reddit Official App: Trending News and Hot Topics  MY      5   \n",
       "2  Reddit Official App: Trending News and Hot Topics  US      5   \n",
       "3  Reddit Official App: Trending News and Hot Topics  US      5   \n",
       "4  Reddit Official App: Trending News and Hot Topics  US      5   \n",
       "5  Reddit Official App: Trending News and Hot Topics  US      5   \n",
       "6  Reddit Official App: Trending News and Hot Topics  CA      5   \n",
       "7  Reddit Official App: Trending News and Hot Topics  US      4   \n",
       "8  Reddit Official App: Trending News and Hot Topics  US      5   \n",
       "9  Reddit Official App: Trending News and Hot Topics  US      5   \n",
       "\n",
       "            date  app_bought  money_spent  \n",
       "0  17-7-10 0:0:0          47          140  \n",
       "1  17-7-10 0:0:0           3           10  \n",
       "2  17-7-10 0:0:0          61          182  \n",
       "3  17-7-10 0:0:0           3            6  \n",
       "4  17-7-10 0:0:0          59          178  \n",
       "5  17-7-10 0:0:0          24           71  \n",
       "6  17-7-10 0:0:0          28          112  \n",
       "7  17-7-10 0:0:0          24          120  \n",
       "8  17-7-10 0:0:0          35          140  \n",
       "9  17-7-10 0:0:0          44          132  "
      ]
     },
     "execution_count": 320,
     "metadata": {},
     "output_type": "execute_result"
    }
   ],
   "source": [
    "df.head(10)"
   ]
  },
  {
   "cell_type": "markdown",
   "metadata": {},
   "source": [
    "### Parsing various date formats\n",
    "Judging by the legth size of the string"
   ]
  },
  {
   "cell_type": "code",
   "execution_count": 321,
   "metadata": {},
   "outputs": [
    {
     "data": {
      "text/plain": [
       "19    2186\n",
       "13    1717\n",
       "12    1070\n",
       "6       27\n",
       "Name: date, dtype: int64"
      ]
     },
     "execution_count": 321,
     "metadata": {},
     "output_type": "execute_result"
    }
   ],
   "source": [
    "#there are 3 distinct date formats as per length of the string\n",
    "#the last will need to be parsed separately since day is occuring first\n",
    "#There must be more efficient way of doing it with pd.datetime.strptime() but this does it for now\n",
    "df.date.str.len().value_counts()"
   ]
  },
  {
   "cell_type": "code",
   "execution_count": 322,
   "metadata": {},
   "outputs": [
    {
     "data": {
      "text/plain": [
       "6/9/17    27\n",
       "Name: date, dtype: int64"
      ]
     },
     "execution_count": 322,
     "metadata": {},
     "output_type": "execute_result"
    }
   ],
   "source": [
    "df.date[df.date.str.len()==6].value_counts()"
   ]
  },
  {
   "cell_type": "code",
   "execution_count": 323,
   "metadata": {},
   "outputs": [],
   "source": [
    "idx_1 = df.date[df.date.str.len() < 11].index\n",
    "idx_2 = df.date[df.date.str.len() > 11].index"
   ]
  },
  {
   "cell_type": "code",
   "execution_count": 324,
   "metadata": {},
   "outputs": [],
   "source": [
    "for i in idx_1:\n",
    "    df.loc[i, 'date'] = pd.to_datetime(df.date[i], dayfirst=True, infer_datetime_format=True)\n",
    "for i in idx_2:\n",
    "    df.loc[i, 'date'] = pd.to_datetime(df.date[i], yearfirst=True, infer_datetime_format=True)\n",
    "df['date'] = pd.to_datetime(df.date)"
   ]
  },
  {
   "cell_type": "code",
   "execution_count": 325,
   "metadata": {
    "scrolled": true
   },
   "outputs": [
    {
     "name": "stdout",
     "output_type": "stream",
     "text": [
      "<class 'pandas.core.frame.DataFrame'>\n",
      "RangeIndex: 5000 entries, 0 to 4999\n",
      "Data columns (total 8 columns):\n",
      "title           5000 non-null object\n",
      "review          5000 non-null object\n",
      "product_name    5000 non-null object\n",
      "iso             5000 non-null object\n",
      "score           5000 non-null int64\n",
      "date            5000 non-null datetime64[ns]\n",
      "app_bought      5000 non-null int64\n",
      "money_spent     5000 non-null int64\n",
      "dtypes: datetime64[ns](1), int64(3), object(4)\n",
      "memory usage: 312.6+ KB\n"
     ]
    }
   ],
   "source": [
    "df.info()"
   ]
  },
  {
   "cell_type": "markdown",
   "metadata": {},
   "source": [
    "### Create Buckets\n",
    "Equally spaced buckets "
   ]
  },
  {
   "cell_type": "code",
   "execution_count": 326,
   "metadata": {},
   "outputs": [
    {
     "data": {
      "image/png": "[encoded data removed]",
      "text/plain": [
       "<Figure size 720x288 with 1 Axes>"
      ]
     },
     "metadata": {},
     "output_type": "display_data"
    }
   ],
   "source": [
    "df.money_spent.hist(figsize=(10,4), bins=10,);"
   ]
  },
  {
   "cell_type": "code",
   "execution_count": 327,
   "metadata": {},
   "outputs": [
    {
     "data": {
      "image/png": "[encoded data removed]",
      "text/plain": [
       "<Figure size 720x288 with 1 Axes>"
      ]
     },
     "metadata": {},
     "output_type": "display_data"
    }
   ],
   "source": [
    "df.app_bought.hist(figsize=(10,4), bins=10);"
   ]
  },
  {
   "cell_type": "code",
   "execution_count": 328,
   "metadata": {},
   "outputs": [],
   "source": [
    "# lbl_app = ['0-10', '10-20', '20-30', '30-40', '40-50', '50-60', '60-70', '70-80', '80-90', '90-100']\n",
    "# bin_app = [0, 10, 20, 30, 40, 50, 60, 70, 80, 90, 100]\n",
    "# df['apps_bought_bucket'] = pd.cut(df.app_bought, bins = 10, labels=lbl_app)"
   ]
  },
  {
   "cell_type": "code",
   "execution_count": 329,
   "metadata": {},
   "outputs": [],
   "source": [
    "lbl_app = ['0-20', '20-40', '40-60', '60-80', '80-100']\n",
    "df['apps_bought_bucket'] = pd.cut(df.app_bought, bins = 5, labels=lbl_app)"
   ]
  },
  {
   "cell_type": "code",
   "execution_count": 330,
   "metadata": {},
   "outputs": [],
   "source": [
    "lbl_mon = ['0-100', '100-200', '200-300', '300-400', '400-500']\n",
    "# bin_mon = [0, 100, 200, 300, 400, 500]\n",
    "df['money_spent_bucket'] = pd.cut(df.money_spent, bins = 5, labels=lbl_mon)"
   ]
  },
  {
   "cell_type": "code",
   "execution_count": 331,
   "metadata": {},
   "outputs": [
    {
     "data": {
      "text/plain": [
       "40-60     1074\n",
       "0-20      1058\n",
       "20-40     1042\n",
       "80-100     915\n",
       "60-80      911\n",
       "Name: apps_bought_bucket, dtype: int64"
      ]
     },
     "execution_count": 331,
     "metadata": {},
     "output_type": "execute_result"
    }
   ],
   "source": [
    "#Somewhat balanced buckets\n",
    "df.apps_bought_bucket.value_counts()"
   ]
  },
  {
   "cell_type": "markdown",
   "metadata": {},
   "source": [
    "### Someone could select the buckets here according to Quantiles\n",
    "```pd.qcut()```"
   ]
  },
  {
   "cell_type": "code",
   "execution_count": 332,
   "metadata": {},
   "outputs": [
    {
     "data": {
      "text/plain": [
       "(108.0, 210.0]    1272\n",
       "(-0.001, 53.0]    1255\n",
       "(53.0, 108.0]     1251\n",
       "(210.0, 500.0]    1222\n",
       "Name: money_spent, dtype: int64"
      ]
     },
     "execution_count": 332,
     "metadata": {},
     "output_type": "execute_result"
    }
   ],
   "source": [
    "pd.qcut(df.money_spent, [0, .25, .5, .75, 1.]).value_counts()"
   ]
  },
  {
   "cell_type": "code",
   "execution_count": null,
   "metadata": {},
   "outputs": [],
   "source": []
  },
  {
   "cell_type": "code",
   "execution_count": 333,
   "metadata": {
    "scrolled": true
   },
   "outputs": [
    {
     "data": {
      "text/plain": [
       "0-100      2399\n",
       "100-200    1288\n",
       "200-300     759\n",
       "300-400     376\n",
       "400-500     178\n",
       "Name: money_spent_bucket, dtype: int64"
      ]
     },
     "execution_count": 333,
     "metadata": {},
     "output_type": "execute_result"
    }
   ],
   "source": [
    "#Somewhat imbalanced buckets, this explains the right skewed distribution\n",
    "df.money_spent_bucket.value_counts()"
   ]
  },
  {
   "cell_type": "code",
   "execution_count": 334,
   "metadata": {
    "scrolled": true
   },
   "outputs": [
    {
     "data": {
      "image/png": "[encoded data removed]",
      "text/plain": [
       "<Figure size 720x360 with 1 Axes>"
      ]
     },
     "metadata": {},
     "output_type": "display_data"
    }
   ],
   "source": [
    "#Weird(maybe just artificial data?) \n",
    "plt.figure(figsize=(10,5))\n",
    "plt.scatter(df.app_bought, df.money_spent);\n",
    "plt.xlabel('app_bought');\n",
    "plt.ylabel('money_spent');"
   ]
  },
  {
   "cell_type": "code",
   "execution_count": 335,
   "metadata": {},
   "outputs": [
    {
     "data": {
      "text/plain": [
       "Timestamp('2017-09-06 00:00:00')"
      ]
     },
     "execution_count": 335,
     "metadata": {},
     "output_type": "execute_result"
    }
   ],
   "source": [
    "df.date.max()"
   ]
  },
  {
   "cell_type": "markdown",
   "metadata": {},
   "source": [
    "### Various Plots just to see some metrics"
   ]
  },
  {
   "cell_type": "code",
   "execution_count": 336,
   "metadata": {},
   "outputs": [
    {
     "data": {
      "image/png": "[encoded data removed]",
      "text/plain": [
       "<Figure size 432x288 with 1 Axes>"
      ]
     },
     "metadata": {},
     "output_type": "display_data"
    }
   ],
   "source": [
    "sns.boxplot(x='score', y='money_spent', data=df);"
   ]
  },
  {
   "cell_type": "code",
   "execution_count": 337,
   "metadata": {},
   "outputs": [
    {
     "data": {
      "image/png": "[encoded data removed]",
      "text/plain": [
       "<Figure size 432x288 with 1 Axes>"
      ]
     },
     "metadata": {},
     "output_type": "display_data"
    }
   ],
   "source": [
    "sns.boxplot(x='score', y='app_bought', data=df);"
   ]
  },
  {
   "cell_type": "code",
   "execution_count": 338,
   "metadata": {},
   "outputs": [
    {
     "data": {
      "image/png": "[encoded data removed]",
      "text/plain": [
       "<Figure size 720x432 with 2 Axes>"
      ]
     },
     "metadata": {},
     "output_type": "display_data"
    }
   ],
   "source": [
    "_, axes = plt.subplots(1, 2, figsize=(10, 6))\n",
    "sns.countplot(x='score', hue='money_spent_bucket', data=df, ax=axes[0]);\n",
    "sns.countplot(x='score', hue='apps_bought_bucket', data=df, ax=axes[1]);"
   ]
  },
  {
   "cell_type": "code",
   "execution_count": null,
   "metadata": {},
   "outputs": [],
   "source": []
  },
  {
   "cell_type": "markdown",
   "metadata": {},
   "source": [
    "### Create feature lists by type\n",
    "Will become useful for some maniulation and indexing"
   ]
  },
  {
   "cell_type": "code",
   "execution_count": 351,
   "metadata": {},
   "outputs": [],
   "source": [
    "num_feat = []\n",
    "cat_feat = []\n",
    "dt = []\n",
    "for i in df:\n",
    "    if df[i].dtype == np.int64 or df[i].dtype == np.float64:\n",
    "        num_feat.append(i)\n",
    "    elif df[i].dtype == 'datetime64[ns]':\n",
    "        dt.append(i)\n",
    "    else:\n",
    "        cat_feat.append(i)"
   ]
  },
  {
   "cell_type": "code",
   "execution_count": 352,
   "metadata": {},
   "outputs": [
    {
     "data": {
      "text/plain": [
       "(3044, 4405)"
      ]
     },
     "execution_count": 352,
     "metadata": {},
     "output_type": "execute_result"
    }
   ],
   "source": [
    "#Some Titles are exactly the same, this might be an issue for diferentiating reviews based on Title\n",
    "#Reviews might also be numerical values to indicate a scale of satisfaction ex:1-10\n",
    "df.title.nunique(), df.review.nunique()"
   ]
  },
  {
   "cell_type": "code",
   "execution_count": 353,
   "metadata": {},
   "outputs": [
    {
     "name": "stdout",
     "output_type": "stream",
     "text": [
      "title 1956\n",
      "review 595\n",
      "product_name 4999\n",
      "iso 4919\n",
      "date 4947\n"
     ]
    }
   ],
   "source": [
    "for i in cat_feat:\n",
    "    print(i, df.duplicated(i).sum())"
   ]
  },
  {
   "cell_type": "code",
   "execution_count": 354,
   "metadata": {},
   "outputs": [
    {
     "ename": "AttributeError",
     "evalue": "'DataFrame' object has no attribute 'money_spent_bucket'",
     "output_type": "error",
     "traceback": [
      "\u001b[0;31m---------------------------------------------------------------------------\u001b[0m",
      "\u001b[0;31mAttributeError\u001b[0m                            Traceback (most recent call last)",
      "\u001b[0;32m<ipython-input-354-94f9f0acc9c9>\u001b[0m in \u001b[0;36m<module>\u001b[0;34m\u001b[0m\n\u001b[0;32m----> 1\u001b[0;31m \u001b[0mdf\u001b[0m\u001b[0;34m.\u001b[0m\u001b[0mmoney_spent_bucket\u001b[0m\u001b[0;34m.\u001b[0m\u001b[0misnull\u001b[0m\u001b[0;34m(\u001b[0m\u001b[0;34m)\u001b[0m\u001b[0;34m.\u001b[0m\u001b[0msum\u001b[0m\u001b[0;34m(\u001b[0m\u001b[0;34m)\u001b[0m\u001b[0;34m\u001b[0m\u001b[0;34m\u001b[0m\u001b[0m\n\u001b[0m",
      "\u001b[0;32m~/anaconda3/lib/python3.7/site-packages/pandas/core/generic.py\u001b[0m in \u001b[0;36m__getattr__\u001b[0;34m(self, name)\u001b[0m\n\u001b[1;32m   5065\u001b[0m             \u001b[0;32mif\u001b[0m \u001b[0mself\u001b[0m\u001b[0;34m.\u001b[0m\u001b[0m_info_axis\u001b[0m\u001b[0;34m.\u001b[0m\u001b[0m_can_hold_identifiers_and_holds_name\u001b[0m\u001b[0;34m(\u001b[0m\u001b[0mname\u001b[0m\u001b[0;34m)\u001b[0m\u001b[0;34m:\u001b[0m\u001b[0;34m\u001b[0m\u001b[0;34m\u001b[0m\u001b[0m\n\u001b[1;32m   5066\u001b[0m                 \u001b[0;32mreturn\u001b[0m \u001b[0mself\u001b[0m\u001b[0;34m[\u001b[0m\u001b[0mname\u001b[0m\u001b[0;34m]\u001b[0m\u001b[0;34m\u001b[0m\u001b[0;34m\u001b[0m\u001b[0m\n\u001b[0;32m-> 5067\u001b[0;31m             \u001b[0;32mreturn\u001b[0m \u001b[0mobject\u001b[0m\u001b[0;34m.\u001b[0m\u001b[0m__getattribute__\u001b[0m\u001b[0;34m(\u001b[0m\u001b[0mself\u001b[0m\u001b[0;34m,\u001b[0m \u001b[0mname\u001b[0m\u001b[0;34m)\u001b[0m\u001b[0;34m\u001b[0m\u001b[0;34m\u001b[0m\u001b[0m\n\u001b[0m\u001b[1;32m   5068\u001b[0m \u001b[0;34m\u001b[0m\u001b[0m\n\u001b[1;32m   5069\u001b[0m     \u001b[0;32mdef\u001b[0m \u001b[0m__setattr__\u001b[0m\u001b[0;34m(\u001b[0m\u001b[0mself\u001b[0m\u001b[0;34m,\u001b[0m \u001b[0mname\u001b[0m\u001b[0;34m,\u001b[0m \u001b[0mvalue\u001b[0m\u001b[0;34m)\u001b[0m\u001b[0;34m:\u001b[0m\u001b[0;34m\u001b[0m\u001b[0;34m\u001b[0m\u001b[0m\n",
      "\u001b[0;31mAttributeError\u001b[0m: 'DataFrame' object has no attribute 'money_spent_bucket'"
     ]
    }
   ],
   "source": [
    "df.money_spent_bucket.isnull().sum()"
   ]
  },
  {
   "cell_type": "code",
   "execution_count": 355,
   "metadata": {},
   "outputs": [
    {
     "data": {
      "text/plain": [
       "title           0.0\n",
       "review          0.0\n",
       "product_name    0.0\n",
       "iso             0.0\n",
       "score           0.0\n",
       "date            0.0\n",
       "app_bought      0.0\n",
       "money_spent     0.0\n",
       "dtype: float64"
      ]
     },
     "execution_count": 355,
     "metadata": {},
     "output_type": "execute_result"
    }
   ],
   "source": [
    "#At this point I relized that the duplicates previously just used very short expressions\n",
    "#but they are not duplicate rows since the app bought and money spent are not same for the duplicated titles\n",
    "df[df.duplicated()].sum()"
   ]
  },
  {
   "cell_type": "code",
   "execution_count": 356,
   "metadata": {},
   "outputs": [
    {
     "data": {
      "text/plain": [
       "'Probably one of my favorite apps not only because of the content it provides, but the constant updates, and continuing support. One of the best apps in the ecosystem. \\r\\rDevelopers need to learn from this.'"
      ]
     },
     "execution_count": 356,
     "metadata": {},
     "output_type": "execute_result"
    }
   ],
   "source": [
    "df.review[198]"
   ]
  },
  {
   "cell_type": "code",
   "execution_count": 357,
   "metadata": {},
   "outputs": [
    {
     "data": {
      "text/plain": [
       "['title', 'review', 'product_name', 'iso', 'date']"
      ]
     },
     "execution_count": 357,
     "metadata": {},
     "output_type": "execute_result"
    }
   ],
   "source": [
    "cat_feat"
   ]
  },
  {
   "cell_type": "code",
   "execution_count": 358,
   "metadata": {},
   "outputs": [
    {
     "name": "stdout",
     "output_type": "stream",
     "text": [
      "<class 'pandas.core.frame.DataFrame'>\n",
      "RangeIndex: 5000 entries, 0 to 4999\n",
      "Data columns (total 8 columns):\n",
      "title           5000 non-null object\n",
      "review          5000 non-null object\n",
      "product_name    5000 non-null object\n",
      "iso             5000 non-null object\n",
      "score           5000 non-null int64\n",
      "date            5000 non-null object\n",
      "app_bought      5000 non-null int64\n",
      "money_spent     5000 non-null int64\n",
      "dtypes: int64(3), object(5)\n",
      "memory usage: 312.6+ KB\n"
     ]
    }
   ],
   "source": [
    "df.info()"
   ]
  },
  {
   "cell_type": "code",
   "execution_count": 365,
   "metadata": {},
   "outputs": [],
   "source": [
    "for i in cat_feat[:2]:\n",
    "    df[i] = df[i].str.replace(r'\\r', '')\n",
    "    df[i] = df[i].str.replace(r'r/', '')"
   ]
  },
  {
   "cell_type": "code",
   "execution_count": 366,
   "metadata": {},
   "outputs": [
    {
     "data": {
      "text/plain": [
       "'Probably one of my favorite apps not only because of the content it provides, but the constant updates, and continuing support. One of the best apps in the ecosystem. Developers need to learn from this.'"
      ]
     },
     "execution_count": 366,
     "metadata": {},
     "output_type": "execute_result"
    }
   ],
   "source": [
    "df.review[198]"
   ]
  },
  {
   "cell_type": "code",
   "execution_count": 364,
   "metadata": {},
   "outputs": [
    {
     "data": {
      "text/plain": [
       "0    I use this app to read nosleep stories before ...\n",
       "1                                           Dank memes\n",
       "2     Love the app, makes using Reddit very convenient\n",
       "3    As the CEO of CNN I find this app repulsive. A...\n",
       "4    I was infrequent in my visits, mainly mobile w...\n",
       "5                Never knew it was something so useful\n",
       "6            It's good reading and I like the colours.\n",
       "7    I've never been an active Reddit user, but the...\n",
       "8    Please make your website equally easy to use. ...\n",
       "9    The amount of time spent on this app is ridicu...\n",
       "Name: review, dtype: object"
      ]
     },
     "execution_count": 364,
     "metadata": {},
     "output_type": "execute_result"
    }
   ],
   "source": [
    "df.review[:10]"
   ]
  },
  {
   "cell_type": "code",
   "execution_count": 258,
   "metadata": {},
   "outputs": [],
   "source": [
    "for i in cat_feat[:3]:\n",
    "    df[i] = df[i].str.lower()\n",
    "    #df[i] = df[i].str.replace('[^\\w\\s]', '')"
   ]
  },
  {
   "cell_type": "code",
   "execution_count": null,
   "metadata": {},
   "outputs": [],
   "source": []
  },
  {
   "cell_type": "code",
   "execution_count": 279,
   "metadata": {},
   "outputs": [
    {
     "data": {
      "text/plain": [
       "'i use this app to read nosleep stories before bed. i love it!'"
      ]
     },
     "execution_count": 279,
     "metadata": {},
     "output_type": "execute_result"
    }
   ],
   "source": [
    "df.review[0]"
   ]
  },
  {
   "cell_type": "code",
   "execution_count": 278,
   "metadata": {
    "scrolled": true
   },
   "outputs": [
    {
     "data": {
      "text/plain": [
       "'probably one of my favorite apps not only because of the content it provides, but the constant updates, and continuing support. one of the best apps in the ecosystem. developers need to learn from this.'"
      ]
     },
     "execution_count": 278,
     "metadata": {},
     "output_type": "execute_result"
    }
   ],
   "source": [
    "df.review[198]"
   ]
  },
  {
   "cell_type": "code",
   "execution_count": 261,
   "metadata": {},
   "outputs": [],
   "source": [
    "x = pd.Series(' '.join(df.review).split()).value_counts()[:10]"
   ]
  },
  {
   "cell_type": "code",
   "execution_count": 262,
   "metadata": {},
   "outputs": [
    {
     "data": {
      "text/plain": [
       "the       2910\n",
       "to        2257\n",
       "i         2056\n",
       "and       1768\n",
       "app       1331\n",
       "a         1325\n",
       "it        1296\n",
       "is        1096\n",
       "of         897\n",
       "reddit     885\n",
       "dtype: int64"
      ]
     },
     "execution_count": 262,
     "metadata": {},
     "output_type": "execute_result"
    }
   ],
   "source": [
    "x"
   ]
  },
  {
   "cell_type": "code",
   "execution_count": 80,
   "metadata": {
    "scrolled": true
   },
   "outputs": [
    {
     "data": {
      "text/html": [
       "<div>\n",
       "<style scoped>\n",
       "    .dataframe tbody tr th:only-of-type {\n",
       "        vertical-align: middle;\n",
       "    }\n",
       "\n",
       "    .dataframe tbody tr th {\n",
       "        vertical-align: top;\n",
       "    }\n",
       "\n",
       "    .dataframe thead th {\n",
       "        text-align: right;\n",
       "    }\n",
       "</style>\n",
       "<table border=\"1\" class=\"dataframe\">\n",
       "  <thead>\n",
       "    <tr style=\"text-align: right;\">\n",
       "      <th></th>\n",
       "      <th>title</th>\n",
       "      <th>review</th>\n",
       "      <th>product_name</th>\n",
       "      <th>iso</th>\n",
       "      <th>...</th>\n",
       "      <th>app_bought</th>\n",
       "      <th>money_spent</th>\n",
       "      <th>apps_bought_bucket</th>\n",
       "      <th>money_spent_bucket</th>\n",
       "    </tr>\n",
       "  </thead>\n",
       "  <tbody>\n",
       "    <tr>\n",
       "      <th>0</th>\n",
       "      <td>love it</td>\n",
       "      <td>i use this app to read nosleep stories before ...</td>\n",
       "      <td>reddit official app trending news and hot topics</td>\n",
       "      <td>US</td>\n",
       "      <td>...</td>\n",
       "      <td>47</td>\n",
       "      <td>140</td>\n",
       "      <td>40-60</td>\n",
       "      <td>100-200</td>\n",
       "    </tr>\n",
       "    <tr>\n",
       "      <th>1</th>\n",
       "      <td></td>\n",
       "      <td>dank memes</td>\n",
       "      <td>reddit official app trending news and hot topics</td>\n",
       "      <td>MY</td>\n",
       "      <td>...</td>\n",
       "      <td>3</td>\n",
       "      <td>10</td>\n",
       "      <td>0-20</td>\n",
       "      <td>0-100</td>\n",
       "    </tr>\n",
       "    <tr>\n",
       "      <th>2</th>\n",
       "      <td>very good app</td>\n",
       "      <td>love the app makes using reddit very convenient</td>\n",
       "      <td>reddit official app trending news and hot topics</td>\n",
       "      <td>US</td>\n",
       "      <td>...</td>\n",
       "      <td>61</td>\n",
       "      <td>182</td>\n",
       "      <td>60-80</td>\n",
       "      <td>100-200</td>\n",
       "    </tr>\n",
       "    <tr>\n",
       "      <th>3</th>\n",
       "      <td>cnn here</td>\n",
       "      <td>as the ceo of cnn i find this app repulsive al...</td>\n",
       "      <td>reddit official app trending news and hot topics</td>\n",
       "      <td>US</td>\n",
       "      <td>...</td>\n",
       "      <td>3</td>\n",
       "      <td>6</td>\n",
       "      <td>0-20</td>\n",
       "      <td>0-100</td>\n",
       "    </tr>\n",
       "    <tr>\n",
       "      <th>4</th>\n",
       "      <td>easy peasy</td>\n",
       "      <td>i was infrequent in my visits mainly mobile we...</td>\n",
       "      <td>reddit official app trending news and hot topics</td>\n",
       "      <td>US</td>\n",
       "      <td>...</td>\n",
       "      <td>59</td>\n",
       "      <td>178</td>\n",
       "      <td>40-60</td>\n",
       "      <td>100-200</td>\n",
       "    </tr>\n",
       "  </tbody>\n",
       "</table>\n",
       "<p>5 rows × 10 columns</p>\n",
       "</div>"
      ],
      "text/plain": [
       "           title                                             review  \\\n",
       "0        love it  i use this app to read nosleep stories before ...   \n",
       "1                                                        dank memes   \n",
       "2  very good app    love the app makes using reddit very convenient   \n",
       "3       cnn here  as the ceo of cnn i find this app repulsive al...   \n",
       "4     easy peasy  i was infrequent in my visits mainly mobile we...   \n",
       "\n",
       "                                       product_name iso  ...  app_bought  \\\n",
       "0  reddit official app trending news and hot topics  US  ...          47   \n",
       "1  reddit official app trending news and hot topics  MY  ...           3   \n",
       "2  reddit official app trending news and hot topics  US  ...          61   \n",
       "3  reddit official app trending news and hot topics  US  ...           3   \n",
       "4  reddit official app trending news and hot topics  US  ...          59   \n",
       "\n",
       "  money_spent  apps_bought_bucket  money_spent_bucket  \n",
       "0         140               40-60             100-200  \n",
       "1          10                0-20               0-100  \n",
       "2         182               60-80             100-200  \n",
       "3           6                0-20               0-100  \n",
       "4         178               40-60             100-200  \n",
       "\n",
       "[5 rows x 10 columns]"
      ]
     },
     "execution_count": 80,
     "metadata": {},
     "output_type": "execute_result"
    }
   ],
   "source": [
    "df.head(5)"
   ]
  },
  {
   "cell_type": "code",
   "execution_count": 317,
   "metadata": {},
   "outputs": [
    {
     "data": {
      "text/plain": [
       "(3475, 174)"
      ]
     },
     "execution_count": 317,
     "metadata": {},
     "output_type": "execute_result"
    }
   ],
   "source": [
    "import re\n",
    "pat = re.compile(\"[^\\w\\s]\")\n",
    "t = []\n",
    "c = 0\n",
    "for i in df.iloc[:, 1]:\n",
    "    z = pat.findall(i)\n",
    "    if len(z) > 1:\n",
    "        t.append(z)\n",
    "    elif len(z) == 1:\n",
    "        t.append(z.pop())\n",
    "df_pc = pd.DataFrame(t)\n",
    "df_pc.shape"
   ]
  },
  {
   "cell_type": "code",
   "execution_count": 307,
   "metadata": {},
   "outputs": [
    {
     "name": "stdout",
     "output_type": "stream",
     "text": [
      "<class 'pandas.core.frame.DataFrame'>\n",
      "RangeIndex: 5000 entries, 0 to 4999\n",
      "Data columns (total 10 columns):\n",
      "title                 5000 non-null object\n",
      "review                5000 non-null object\n",
      "product_name          5000 non-null object\n",
      "iso                   5000 non-null object\n",
      "score                 5000 non-null int64\n",
      "date                  5000 non-null datetime64[ns]\n",
      "app_bought            5000 non-null int64\n",
      "money_spent           5000 non-null int64\n",
      "apps_bought_bucket    5000 non-null category\n",
      "money_spent_bucket    5000 non-null category\n",
      "dtypes: category(2), datetime64[ns](1), int64(3), object(4)\n",
      "memory usage: 322.7+ KB\n"
     ]
    }
   ],
   "source": [
    "df.info()"
   ]
  },
  {
   "cell_type": "code",
   "execution_count": 308,
   "metadata": {},
   "outputs": [
    {
     "data": {
      "text/plain": [
       "-1    980\n",
       "Name: review, dtype: int64"
      ]
     },
     "execution_count": 308,
     "metadata": {},
     "output_type": "execute_result"
    }
   ],
   "source": [
    "df.review[4000:4980].str.find('^\\w').value_counts()"
   ]
  },
  {
   "cell_type": "code",
   "execution_count": 368,
   "metadata": {},
   "outputs": [
    {
     "name": "stdout",
     "output_type": "stream",
     "text": [
      "<class 'pandas.core.frame.DataFrame'>\n",
      "RangeIndex: 5000 entries, 0 to 4999\n",
      "Data columns (total 8 columns):\n",
      "title           5000 non-null object\n",
      "review          5000 non-null object\n",
      "product_name    5000 non-null object\n",
      "iso             5000 non-null object\n",
      "score           5000 non-null int64\n",
      "date            5000 non-null object\n",
      "app_bought      5000 non-null int64\n",
      "money_spent     5000 non-null int64\n",
      "dtypes: int64(3), object(5)\n",
      "memory usage: 312.6+ KB\n"
     ]
    }
   ],
   "source": [
    "df.info()"
   ]
  },
  {
   "cell_type": "code",
   "execution_count": null,
   "metadata": {},
   "outputs": [],
   "source": [
    "# print('\\r',num_feat,'\\n',cat_feat,'\\n',dt)"
   ]
  },
  {
   "cell_type": "code",
   "execution_count": null,
   "metadata": {},
   "outputs": [],
   "source": [
    "# d = pd.DataFrame(df.review.apply(pd.unique).astype(df.review.dtype))\n",
    "# df_new = df[:]\n",
    "# df_new[cat_feat[:-1]].astype(str, inplace=True);"
   ]
  },
  {
   "cell_type": "code",
   "execution_count": null,
   "metadata": {},
   "outputs": [],
   "source": []
  }
 ],
 "metadata": {
  "kernelspec": {
   "display_name": "Python 3",
   "language": "python",
   "name": "python3"
  },
  "language_info": {
   "codemirror_mode": {
    "name": "ipython",
    "version": 3
   },
   "file_extension": ".py",
   "mimetype": "text/x-python",
   "name": "python",
   "nbconvert_exporter": "python",
   "pygments_lexer": "ipython3",
   "version": "3.7.3"
  }
 },
 "nbformat": 4,
 "nbformat_minor": 2
}
