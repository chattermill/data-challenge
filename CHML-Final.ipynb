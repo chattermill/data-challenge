{
 "cells": [
  {
   "cell_type": "code",
   "execution_count": 178,
   "metadata": {},
   "outputs": [],
   "source": [
    "import emoji\n",
    "import sqlite3\n",
    "import pandas as pd\n",
    "import numpy as np    \n",
    "df = pd.read_csv('./reddit_exercise_data.csv', sep=',', escapechar='\\n')\n",
    "df.rename({'app_bought':'apps_bought'}, axis=1,  inplace=True)\n",
    "df.drop(['product_name'], axis=1, inplace=True)"
   ]
  },
  {
   "cell_type": "code",
   "execution_count": 179,
   "metadata": {},
   "outputs": [],
   "source": [
    "def parse_dates(df):\n",
    "    '''There are 3 distinct date formats as per length of the string\n",
    "    the last will need to be parsed separately since day is occuring first\n",
    "    There must be more efficient way of doing it with pd.datetime.strptime()\n",
    "    but this does it for now'''\n",
    "    \n",
    "    idx_1 = df.date[df.date.str.len() < 11].index\n",
    "    idx_2 = df.date[df.date.str.len() > 11].index\n",
    "    \n",
    "    for i in idx_1:\n",
    "        df.loc[i, 'date'] = pd.to_datetime(df.date[i], dayfirst=True, infer_datetime_format=True)\n",
    "    for i in idx_2:\n",
    "        df.loc[i, 'date'] = pd.to_datetime(df.date[i], yearfirst=True, infer_datetime_format=True)\n",
    "    df['date'] = pd.to_datetime(df.date)\n",
    "    return df"
   ]
  },
  {
   "cell_type": "code",
   "execution_count": 180,
   "metadata": {},
   "outputs": [],
   "source": [
    "def make_buck(df):\n",
    "    '''Create equaly spaced buckets, alternatively use\n",
    "    pd.qcut() to create balanced bukets'''\n",
    "        \n",
    "    lbl_app = ['0-20', '20-40', '40-60', '60-80', '80-100']\n",
    "    df['apps_bought_bucket'] = pd.cut(df.apps_bought, bins = 5, labels=lbl_app)\n",
    "    lbl_mon = ['0-100', '100-200', '200-300', '300-400', '400-500']\n",
    "    df['money_spent_bucket'] = pd.cut(df.money_spent, bins = 5, labels=lbl_mon)\n",
    "    return df"
   ]
  },
  {
   "cell_type": "code",
   "execution_count": 181,
   "metadata": {},
   "outputs": [],
   "source": [
    "def preprocessing(df):\n",
    "    '''Create lists of features based on dtype, for indexing and cleaning\n",
    "    we could also remove non word'''\n",
    "    cp = df[:]\n",
    "    parse_dates(cp)\n",
    "    make_buck(cp)\n",
    "    num_feat = []\n",
    "    cat_feat = []\n",
    "    dt = []\n",
    "    for i in cp:\n",
    "        if cp[i].dtype == np.int64 or cp[i].dtype == np.float64:\n",
    "            num_feat.append(i)\n",
    "        elif cp[i].dtype == 'datetime64[ns]':\n",
    "            dt.append(i)\n",
    "        else:\n",
    "            cat_feat.append(i)\n",
    "    for i in cat_feat[:3]:\n",
    "        #Remove carriage return\n",
    "        cp[i] = cp[i].str.replace(r'\\r', '')\n",
    "        cp[i] = cp[i].str.replace(r'r/', '')\n",
    "        cp[i] = cp[i].str.lower()\n",
    "        #df[i] = df[i].str.replace('[^\\w\\s]', '')\n",
    "    #'category' type seems to require less memory for the below columns\n",
    "    cp['iso'] = cp['iso'].astype('category')\n",
    "    return cp"
   ]
  },
  {
   "cell_type": "code",
   "execution_count": 182,
   "metadata": {},
   "outputs": [],
   "source": [
    "x = preprocessing(df)\n",
    "x.to_csv('DL_preprocessed.csv')"
   ]
  },
  {
   "cell_type": "code",
   "execution_count": 186,
   "metadata": {},
   "outputs": [],
   "source": [
    "def pop_reviews(df, db_file):\n",
    "    '''populate the db file and close connection'''\n",
    "    \n",
    "    db = sqlite3.connect(db_file)\n",
    "    c = db.cursor()\n",
    "    c.execute('DELETE FROM reviews')\n",
    "    df.to_sql('reviews', db, if_exists='append', index=False)\n",
    "    c.close()\n",
    "    return None"
   ]
  },
  {
   "cell_type": "code",
   "execution_count": 187,
   "metadata": {},
   "outputs": [],
   "source": [
    "pop_reviews(x, './exercise_database.db')"
   ]
  },
  {
   "cell_type": "code",
   "execution_count": 202,
   "metadata": {},
   "outputs": [],
   "source": [
    "def avg_score_iso(db_file):\n",
    "    '''create a csv with the avg score by iso'''\n",
    "    \n",
    "    db = sqlite3.connect(db_file)\n",
    "    f_1 = pd.read_sql('SELECT iso, AVG(score) as avg_by_iso FROM reviews GROUP BY iso ORDER BY avg_by_iso ASC', db)\n",
    "    f_1.to_csv('./avg_by_iso.csv')\n",
    "    db.close()\n",
    "    return f_1[:3]"
   ]
  },
  {
   "cell_type": "code",
   "execution_count": 203,
   "metadata": {},
   "outputs": [
    {
     "data": {
      "text/html": [
       "<div>\n",
       "<style scoped>\n",
       "    .dataframe tbody tr th:only-of-type {\n",
       "        vertical-align: middle;\n",
       "    }\n",
       "\n",
       "    .dataframe tbody tr th {\n",
       "        vertical-align: top;\n",
       "    }\n",
       "\n",
       "    .dataframe thead th {\n",
       "        text-align: right;\n",
       "    }\n",
       "</style>\n",
       "<table border=\"1\" class=\"dataframe\">\n",
       "  <thead>\n",
       "    <tr style=\"text-align: right;\">\n",
       "      <th></th>\n",
       "      <th>iso</th>\n",
       "      <th>avg_by_iso</th>\n",
       "    </tr>\n",
       "  </thead>\n",
       "  <tbody>\n",
       "    <tr>\n",
       "      <th>0</th>\n",
       "      <td>ec</td>\n",
       "      <td>3.666667</td>\n",
       "    </tr>\n",
       "    <tr>\n",
       "      <th>1</th>\n",
       "      <td>bh</td>\n",
       "      <td>4.000000</td>\n",
       "    </tr>\n",
       "    <tr>\n",
       "      <th>2</th>\n",
       "      <td>hn</td>\n",
       "      <td>4.000000</td>\n",
       "    </tr>\n",
       "  </tbody>\n",
       "</table>\n",
       "</div>"
      ],
      "text/plain": [
       "  iso  avg_by_iso\n",
       "0  ec    3.666667\n",
       "1  bh    4.000000\n",
       "2  hn    4.000000"
      ]
     },
     "execution_count": 203,
     "metadata": {},
     "output_type": "execute_result"
    }
   ],
   "source": [
    "avg_score_iso('./exercise_database.db')"
   ]
  },
  {
   "cell_type": "code",
   "execution_count": 206,
   "metadata": {},
   "outputs": [],
   "source": [
    "def Maximum_score_by_apps_bought_bucket(db_file):\n",
    "    '''create a csv with the max score by apps_bought_bucket'''\n",
    "    \n",
    "    db = sqlite3.connect(db_file)\n",
    "    f_2 = pd.read_sql('SELECT apps_bought_bucket, MAX(score) as Max_score FROM reviews GROUP BY apps_bought_bucket ORDER BY Max_score ASC', db)\n",
    "    f_2.to_csv('./Max_score_by_app_bucket.csv')\n",
    "    db.close()\n",
    "    return f_2"
   ]
  },
  {
   "cell_type": "code",
   "execution_count": 207,
   "metadata": {},
   "outputs": [
    {
     "data": {
      "text/html": [
       "<div>\n",
       "<style scoped>\n",
       "    .dataframe tbody tr th:only-of-type {\n",
       "        vertical-align: middle;\n",
       "    }\n",
       "\n",
       "    .dataframe tbody tr th {\n",
       "        vertical-align: top;\n",
       "    }\n",
       "\n",
       "    .dataframe thead th {\n",
       "        text-align: right;\n",
       "    }\n",
       "</style>\n",
       "<table border=\"1\" class=\"dataframe\">\n",
       "  <thead>\n",
       "    <tr style=\"text-align: right;\">\n",
       "      <th></th>\n",
       "      <th>apps_bought_bucket</th>\n",
       "      <th>Max_score</th>\n",
       "    </tr>\n",
       "  </thead>\n",
       "  <tbody>\n",
       "    <tr>\n",
       "      <th>0</th>\n",
       "      <td>0-20</td>\n",
       "      <td>5</td>\n",
       "    </tr>\n",
       "    <tr>\n",
       "      <th>1</th>\n",
       "      <td>20-40</td>\n",
       "      <td>5</td>\n",
       "    </tr>\n",
       "    <tr>\n",
       "      <th>2</th>\n",
       "      <td>40-60</td>\n",
       "      <td>5</td>\n",
       "    </tr>\n",
       "    <tr>\n",
       "      <th>3</th>\n",
       "      <td>60-80</td>\n",
       "      <td>5</td>\n",
       "    </tr>\n",
       "    <tr>\n",
       "      <th>4</th>\n",
       "      <td>80-100</td>\n",
       "      <td>5</td>\n",
       "    </tr>\n",
       "  </tbody>\n",
       "</table>\n",
       "</div>"
      ],
      "text/plain": [
       "  apps_bought_bucket  Max_score\n",
       "0               0-20          5\n",
       "1              20-40          5\n",
       "2              40-60          5\n",
       "3              60-80          5\n",
       "4             80-100          5"
      ]
     },
     "execution_count": 207,
     "metadata": {},
     "output_type": "execute_result"
    }
   ],
   "source": [
    "Maximum_score_by_apps_bought_bucket('./exercise_database.db')"
   ]
  },
  {
   "cell_type": "code",
   "execution_count": 208,
   "metadata": {},
   "outputs": [],
   "source": [
    "def avg_score_day(db_file):\n",
    "    '''create a csv with the avg score by day'''\n",
    "    \n",
    "    db = sqlite3.connect(db_file)\n",
    "    f_3 = pd.read_sql('SELECT date, AVG(score) as avg_day FROM reviews GROUP BY date ORDER BY avg_day ASC', db)\n",
    "    f_3.to_csv('./avg_day.csv')\n",
    "    db.close()\n",
    "    return f_3[:3]"
   ]
  },
  {
   "cell_type": "code",
   "execution_count": 209,
   "metadata": {},
   "outputs": [
    {
     "data": {
      "text/html": [
       "<div>\n",
       "<style scoped>\n",
       "    .dataframe tbody tr th:only-of-type {\n",
       "        vertical-align: middle;\n",
       "    }\n",
       "\n",
       "    .dataframe tbody tr th {\n",
       "        vertical-align: top;\n",
       "    }\n",
       "\n",
       "    .dataframe thead th {\n",
       "        text-align: right;\n",
       "    }\n",
       "</style>\n",
       "<table border=\"1\" class=\"dataframe\">\n",
       "  <thead>\n",
       "    <tr style=\"text-align: right;\">\n",
       "      <th></th>\n",
       "      <th>date</th>\n",
       "      <th>avg_day</th>\n",
       "    </tr>\n",
       "  </thead>\n",
       "  <tbody>\n",
       "    <tr>\n",
       "      <th>0</th>\n",
       "      <td>2017-06-21 00:00:00</td>\n",
       "      <td>2.333333</td>\n",
       "    </tr>\n",
       "    <tr>\n",
       "      <th>1</th>\n",
       "      <td>2017-06-22 00:00:00</td>\n",
       "      <td>2.800000</td>\n",
       "    </tr>\n",
       "    <tr>\n",
       "      <th>2</th>\n",
       "      <td>2017-06-25 00:00:00</td>\n",
       "      <td>2.800000</td>\n",
       "    </tr>\n",
       "  </tbody>\n",
       "</table>\n",
       "</div>"
      ],
      "text/plain": [
       "                  date   avg_day\n",
       "0  2017-06-21 00:00:00  2.333333\n",
       "1  2017-06-22 00:00:00  2.800000\n",
       "2  2017-06-25 00:00:00  2.800000"
      ]
     },
     "execution_count": 209,
     "metadata": {},
     "output_type": "execute_result"
    }
   ],
   "source": [
    "avg_score_day('./exercise_database.db')"
   ]
  },
  {
   "cell_type": "code",
   "execution_count": 218,
   "metadata": {},
   "outputs": [],
   "source": [
    "def avg_score_day_week(db_file):\n",
    "    '''create a csv with the avg score by day of week\n",
    "    Sunday == 0 etc'''\n",
    "    \n",
    "    db = sqlite3.connect(db_file)\n",
    "    f_4 = pd.read_sql('SELECT strftime(\"%w\", date) as day, AVG(score) as avg_by_day_week FROM reviews GROUP BY day ORDER BY avg_by_day_week ASC', db)\n",
    "    f_4.to_csv('./avg_day_week.csv')\n",
    "    db.close()\n",
    "    return f_4"
   ]
  },
  {
   "cell_type": "code",
   "execution_count": 219,
   "metadata": {},
   "outputs": [
    {
     "data": {
      "text/html": [
       "<div>\n",
       "<style scoped>\n",
       "    .dataframe tbody tr th:only-of-type {\n",
       "        vertical-align: middle;\n",
       "    }\n",
       "\n",
       "    .dataframe tbody tr th {\n",
       "        vertical-align: top;\n",
       "    }\n",
       "\n",
       "    .dataframe thead th {\n",
       "        text-align: right;\n",
       "    }\n",
       "</style>\n",
       "<table border=\"1\" class=\"dataframe\">\n",
       "  <thead>\n",
       "    <tr style=\"text-align: right;\">\n",
       "      <th></th>\n",
       "      <th>day</th>\n",
       "      <th>avg_by_day_week</th>\n",
       "    </tr>\n",
       "  </thead>\n",
       "  <tbody>\n",
       "    <tr>\n",
       "      <th>0</th>\n",
       "      <td>3</td>\n",
       "      <td>4.498655</td>\n",
       "    </tr>\n",
       "    <tr>\n",
       "      <th>1</th>\n",
       "      <td>4</td>\n",
       "      <td>4.498947</td>\n",
       "    </tr>\n",
       "    <tr>\n",
       "      <th>2</th>\n",
       "      <td>5</td>\n",
       "      <td>4.535270</td>\n",
       "    </tr>\n",
       "    <tr>\n",
       "      <th>3</th>\n",
       "      <td>0</td>\n",
       "      <td>4.566288</td>\n",
       "    </tr>\n",
       "    <tr>\n",
       "      <th>4</th>\n",
       "      <td>1</td>\n",
       "      <td>4.594907</td>\n",
       "    </tr>\n",
       "    <tr>\n",
       "      <th>5</th>\n",
       "      <td>2</td>\n",
       "      <td>4.609959</td>\n",
       "    </tr>\n",
       "    <tr>\n",
       "      <th>6</th>\n",
       "      <td>6</td>\n",
       "      <td>4.654064</td>\n",
       "    </tr>\n",
       "  </tbody>\n",
       "</table>\n",
       "</div>"
      ],
      "text/plain": [
       "  day  avg_by_day_week\n",
       "0   3         4.498655\n",
       "1   4         4.498947\n",
       "2   5         4.535270\n",
       "3   0         4.566288\n",
       "4   1         4.594907\n",
       "5   2         4.609959\n",
       "6   6         4.654064"
      ]
     },
     "execution_count": 219,
     "metadata": {},
     "output_type": "execute_result"
    }
   ],
   "source": [
    "avg_score_day_week('./exercise_database.db')"
   ]
  },
  {
   "cell_type": "code",
   "execution_count": 220,
   "metadata": {},
   "outputs": [
    {
     "name": "stdout",
     "output_type": "stream",
     "text": [
      "Done.\n"
     ]
    },
    {
     "data": {
      "text/html": [
       "<table>\n",
       "    <tr>\n",
       "        <th>cid</th>\n",
       "        <th>name</th>\n",
       "        <th>type</th>\n",
       "        <th>notnull</th>\n",
       "        <th>dflt_value</th>\n",
       "        <th>pk</th>\n",
       "    </tr>\n",
       "    <tr>\n",
       "        <td>0</td>\n",
       "        <td>review</td>\n",
       "        <td>TEXT</td>\n",
       "        <td>0</td>\n",
       "        <td>None</td>\n",
       "        <td>0</td>\n",
       "    </tr>\n",
       "    <tr>\n",
       "        <td>1</td>\n",
       "        <td>title</td>\n",
       "        <td>TEXT</td>\n",
       "        <td>0</td>\n",
       "        <td>None</td>\n",
       "        <td>0</td>\n",
       "    </tr>\n",
       "    <tr>\n",
       "        <td>2</td>\n",
       "        <td>iso</td>\n",
       "        <td>TEXT</td>\n",
       "        <td>0</td>\n",
       "        <td>None</td>\n",
       "        <td>0</td>\n",
       "    </tr>\n",
       "    <tr>\n",
       "        <td>3</td>\n",
       "        <td>score</td>\n",
       "        <td>INTEGER</td>\n",
       "        <td>0</td>\n",
       "        <td>None</td>\n",
       "        <td>0</td>\n",
       "    </tr>\n",
       "    <tr>\n",
       "        <td>4</td>\n",
       "        <td>date</td>\n",
       "        <td>TEXT</td>\n",
       "        <td>0</td>\n",
       "        <td>None</td>\n",
       "        <td>0</td>\n",
       "    </tr>\n",
       "    <tr>\n",
       "        <td>5</td>\n",
       "        <td>apps_bought</td>\n",
       "        <td>INTEGER</td>\n",
       "        <td>0</td>\n",
       "        <td>None</td>\n",
       "        <td>0</td>\n",
       "    </tr>\n",
       "    <tr>\n",
       "        <td>6</td>\n",
       "        <td>money_spent</td>\n",
       "        <td>NUMERIC</td>\n",
       "        <td>0</td>\n",
       "        <td>None</td>\n",
       "        <td>0</td>\n",
       "    </tr>\n",
       "    <tr>\n",
       "        <td>7</td>\n",
       "        <td>apps_bought_bucket</td>\n",
       "        <td>TEXT</td>\n",
       "        <td>0</td>\n",
       "        <td>None</td>\n",
       "        <td>0</td>\n",
       "    </tr>\n",
       "    <tr>\n",
       "        <td>8</td>\n",
       "        <td>money_spent_bucket</td>\n",
       "        <td>TEXT</td>\n",
       "        <td>0</td>\n",
       "        <td>None</td>\n",
       "        <td>0</td>\n",
       "    </tr>\n",
       "</table>"
      ],
      "text/plain": [
       "[(0, 'review', 'TEXT', 0, None, 0),\n",
       " (1, 'title', 'TEXT', 0, None, 0),\n",
       " (2, 'iso', 'TEXT', 0, None, 0),\n",
       " (3, 'score', 'INTEGER', 0, None, 0),\n",
       " (4, 'date', 'TEXT', 0, None, 0),\n",
       " (5, 'apps_bought', 'INTEGER', 0, None, 0),\n",
       " (6, 'money_spent', 'NUMERIC', 0, None, 0),\n",
       " (7, 'apps_bought_bucket', 'TEXT', 0, None, 0),\n",
       " (8, 'money_spent_bucket', 'TEXT', 0, None, 0)]"
      ]
     },
     "execution_count": 220,
     "metadata": {},
     "output_type": "execute_result"
    }
   ],
   "source": [
    "%%sql sqlite:///exercise_database.db\n"
   ]
  },
  {
   "cell_type": "code",
   "execution_count": null,
   "metadata": {},
   "outputs": [],
   "source": []
  },
  {
   "cell_type": "code",
   "execution_count": null,
   "metadata": {},
   "outputs": [],
   "source": []
  },
  {
   "cell_type": "code",
   "execution_count": null,
   "metadata": {},
   "outputs": [],
   "source": []
  },
  {
   "cell_type": "code",
   "execution_count": null,
   "metadata": {},
   "outputs": [],
   "source": []
  }
 ],
 "metadata": {
  "kernelspec": {
   "display_name": "Python 3",
   "language": "python",
   "name": "python3"
  },
  "language_info": {
   "codemirror_mode": {
    "name": "ipython",
    "version": 3
   },
   "file_extension": ".py",
   "mimetype": "text/x-python",
   "name": "python",
   "nbconvert_exporter": "python",
   "pygments_lexer": "ipython3",
   "version": "3.7.3"
  }
 },
 "nbformat": 4,
 "nbformat_minor": 2
}
